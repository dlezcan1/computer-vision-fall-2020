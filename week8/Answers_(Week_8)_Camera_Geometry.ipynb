{
  "nbformat": 4,
  "nbformat_minor": 0,
  "metadata": {
    "colab": {
      "name": "Answers (Week 8) Camera Geometry.ipynb",
      "provenance": [],
      "collapsed_sections": [
        "TgFDOQD0mxL2"
      ]
    },
    "kernelspec": {
      "display_name": "Python 3",
      "language": "python",
      "name": "python3"
    },
    "language_info": {
      "codemirror_mode": {
        "name": "ipython",
        "version": 3
      },
      "file_extension": ".py",
      "mimetype": "text/x-python",
      "name": "python",
      "nbconvert_exporter": "python",
      "pygments_lexer": "ipython3",
      "version": "3.7.3"
    }
  },
  "cells": [
    {
      "cell_type": "code",
      "metadata": {
        "id": "XZBLjVlNlgox"
      },
      "source": [
        "%matplotlib inline\n",
        "import matplotlib.pyplot as plt\n",
        "import numpy as np\n",
        "import cv2\n",
        "from scipy import signal"
      ],
      "execution_count": null,
      "outputs": []
    },
    {
      "cell_type": "markdown",
      "metadata": {
        "id": "TgFDOQD0mxL2"
      },
      "source": [
        "### Read this First\n",
        "\n",
        "#### Remember that `tab` is is useful for autocompletion.\n",
        "\n",
        "#### Remember that `shift + tab` is useful for rapidly obtaining usage + documentation."
      ]
    },
    {
      "cell_type": "markdown",
      "metadata": {
        "id": "kgqGhZUDmz5y"
      },
      "source": [
        "###**3D Camera Geometry**"
      ]
    },
    {
      "cell_type": "markdown",
      "metadata": {
        "id": "mnsOTCvam3dI"
      },
      "source": [
        "**In class we covered material for single and multi-camera systems. This notebook will help ground some of these geometric concepts.**\n",
        "\n",
        "**First, we'll define some of the components helpful for for camera geometry**"
      ]
    },
    {
      "cell_type": "code",
      "metadata": {
        "id": "XM5v1tZzq_7l"
      },
      "source": [
        "def rotatex(t) :\n",
        "  \"\"\" Creates a 3D rotation matrix representing a rotation about the x-axis by t radians \"\"\"\n",
        "  return np.array([[1,0,0],[0,np.cos(t),-np.sin(t)],[0,np.sin(t),np.cos(t)]])\n",
        "\n",
        "def rotatey(t) :\n",
        "  \"\"\" Creates a 3D rotation matrix representing a rotation about the y-axis by t radians \"\"\"\n",
        "  return np.array([[np.cos(t),0,np.sin(t)],[0,1,0],[-np.sin(t),0,np.cos(t)]])\n",
        "\n",
        "def rotatez(t) :\n",
        "  \"\"\" Creates a 3D rotation matrix representing a rotation about the z-axis by t radians \"\"\"\n",
        "  return [[np.cos(t),-np.sin(t),0],[np.sin(t),np.cos(t),0],[0,0,1]]\n",
        "\n",
        "def rotate2D(t) :\n",
        "  \"\"\" Creates a 2D rotation matrix representing a rotation by t radians \"\"\"\n",
        "  return [[np.cos(t),-np.sin(t)],[np.sin(t),np.cos(t)]]\n",
        "\n",
        "def trans(x,y,z) :\n",
        "  \"\"\" Creates a 3D translation vector of shape 3x1 \"\"\"\n",
        "  return np.array([[x,y,z]]).T\n",
        "\n",
        "def pointh(x,y,z) :\n",
        "  \"\"\" Creates a 3D point in homogeneous coordinates \"\"\"\n",
        "  return np.array([[x,y,z,1]].T)\n",
        "\n",
        "def htrans(R,t) :\n",
        "  \"\"\" Creates a 3D homogeneous transformation matrix \"\"\"\n",
        "  return np.concatenate((np.concatenate((R,t),axis=1),np.array([[0,0,0,1]])))"
      ],
      "execution_count": null,
      "outputs": []
    },
    {
      "cell_type": "markdown",
      "metadata": {
        "id": "9BgcMwI-jrGj"
      },
      "source": [
        "**Now, we'll define some components for camera internal geometry**"
      ]
    },
    {
      "cell_type": "code",
      "metadata": {
        "id": "difUAAAk6Avj"
      },
      "source": [
        "def Kmatrix(sx,sy,ox,oy) :\n",
        "  \"\"\" Creates the matrix K that represents the calibration matrix \"\"\"\n",
        "  return np.array([[sx,0,ox],[0,sy,oy],[0,0,1]])\n",
        "\n",
        "def Mmatrix(K) :\n",
        "  \"\"\" Creates the matrix M that represents the intrinsic matrix \"\"\"\n",
        "  return np.concatenate((K, np.array([[0,0,0]]).T),axis=1)"
      ],
      "execution_count": null,
      "outputs": []
    },
    {
      "cell_type": "markdown",
      "metadata": {
        "id": "u_03oZyujrGm"
      },
      "source": [
        "**Now, write a function that, given a intrinsic matrix M and a extrinsic matrix H, computes the projection matrix P.** "
      ]
    },
    {
      "cell_type": "code",
      "metadata": {
        "id": "fgW6r4yRjrGn"
      },
      "source": [
        "def Pmatrix(M, H):\n",
        "  \"\"\" Creates a 3x4 projection matrix P that relates world coordinates to pixel coordinates\n",
        "      Args:\n",
        "        M: 3x4 matrix representing the intrinsic parameters of the camera\n",
        "        H: 4x4 matrix representing the extrinsic parameters of the camera\n",
        "      Return:\n",
        "        P: 3x4 matrix relating world coordinates to pixel coordinates\n",
        "  \"\"\"\n",
        "  \n",
        "  ##\n",
        "  P = np.matmul(M, H)\n",
        "  ##\n",
        "\n",
        "  return P"
      ],
      "execution_count": null,
      "outputs": []
    },
    {
      "cell_type": "markdown",
      "metadata": {
        "id": "bcPPA9g2pO3x"
      },
      "source": [
        "**Now, let's make some real world points to project.  Since this is a camera, we'll make the z axis larger than x and y**"
      ]
    },
    {
      "cell_type": "code",
      "metadata": {
        "id": "zLV-RSixjrGs",
        "colab": {
          "base_uri": "https://localhost:8080/",
          "height": 265
        },
        "outputId": "45cf8f0d-0f1f-448c-b66b-469138c61111"
      },
      "source": [
        "# Make 20 random 3D points stacked horizontally \n",
        "pts = np.concatenate((np.random.random([3,20]),np.ones([1,20])),axis=0)\n",
        "pts[0:2,:] = (pts[0:2,:] - 0.5) * 100\n",
        "pts[2,:] = (pts[2,:] - 0.5) * 100 + 1000\n",
        "\n",
        "# Plot these points\n",
        "fig = plt.figure()\n",
        "ax = fig.add_subplot(111, projection='3d')\n",
        "plt.scatter(pts[0],pts[1],zs=pts[2],s=5)"
      ],
      "execution_count": null,
      "outputs": [
        {
          "output_type": "execute_result",
          "data": {
            "text/plain": [
              "<mpl_toolkits.mplot3d.art3d.Path3DCollection at 0x7f571bfa5d68>"
            ]
          },
          "metadata": {
            "tags": []
          },
          "execution_count": 183
        },
        {
          "output_type": "display_data",
          "data": {
            "image/png": "[encoded data removed]",
            "text/plain": [
              "<Figure size 432x288 with 1 Axes>"
            ]
          },
          "metadata": {
            "tags": [],
            "needs_background": "light"
          }
        }
      ]
    },
    {
      "cell_type": "markdown",
      "metadata": {
        "id": "V4jHqcJKtVkb"
      },
      "source": [
        "**Create an K matrix with parameters $s_x=s_y=1000$, $o_x=52.2$, $o_y=55.3$. Create a H matrix with identity rotation and a translation $(x, y, z)=(42, 33, 1000)$. Then, using those, create the P matrix and print the resulting matrix.**"
      ]
    },
    {
      "cell_type": "code",
      "metadata": {
        "id": "Tr-xvJ7buoOT",
        "colab": {
          "base_uri": "https://localhost:8080/",
          "height": 68
        },
        "outputId": "5256ebe9-71c5-4667-9714-e49ec0bc58a6"
      },
      "source": [
        "##\n",
        "M = Mmatrix(Kmatrix(1000, 1000, 52.2, 55.3))\n",
        "H = htrans(rotatex(0), trans(42, 33, 1000))\n",
        "P = Pmatrix(M, H)\n",
        "print(P)\n",
        "##"
      ],
      "execution_count": null,
      "outputs": [
        {
          "output_type": "stream",
          "text": [
            "[[1.00e+03 0.00e+00 5.22e+01 9.42e+04]\n",
            " [0.00e+00 1.00e+03 5.53e+01 8.83e+04]\n",
            " [0.00e+00 0.00e+00 1.00e+00 1.00e+03]]\n"
          ],
          "name": "stdout"
        }
      ]
    },
    {
      "cell_type": "markdown",
      "metadata": {
        "id": "bwu3dh1N0sEA"
      },
      "source": [
        "**Transform our real world points pts using this projection matrix and store the resulting pixel coordinates into pix_pts. Remember that the results are in homogeneous coordinates so when we plot it we have to ensure that $w=1$ for hoomogeneous coordinate $(u, v, w)$**"
      ]
    },
    {
      "cell_type": "code",
      "metadata": {
        "id": "1kUEbvxavTQD",
        "colab": {
          "base_uri": "https://localhost:8080/",
          "height": 265
        },
        "outputId": "ee312324-8142-4c6f-840d-7508fbf0e6ac"
      },
      "source": [
        "pix_pts = np.zeros((3, 20))\n",
        "##\n",
        "for i in range(20):\n",
        "  pix_pts[:, i] = np.matmul(P, pts[:, i])\n",
        "  pix_pts[:, i] /= pix_pts[2, i]\n",
        "##\n",
        "\n",
        "# Plot these points\n",
        "fig = plt.figure()\n",
        "plt.scatter(pix_pts[0], pix_pts[1], s=5)\n",
        "plt.gca().invert_yaxis()"
      ],
      "execution_count": null,
      "outputs": [
        {
          "output_type": "display_data",
          "data": {
            "image/png": "[encoded data removed]",
            "text/plain": [
              "<Figure size 432x288 with 1 Axes>"
            ]
          },
          "metadata": {
            "tags": [],
            "needs_background": "light"
          }
        }
      ]
    },
    {
      "cell_type": "markdown",
      "metadata": {
        "id": "LldzxXYp1A0d"
      },
      "source": [
        "**Why did I invert the y axis here?**"
      ]
    },
    {
      "cell_type": "markdown",
      "metadata": {
        "id": "XRnX-02R1Cw7"
      },
      "source": [
        ""
      ]
    },
    {
      "cell_type": "markdown",
      "metadata": {
        "id": "w5N9JsC_1DIV"
      },
      "source": [
        "**Now we want to compare this with the plot of pts above to see how similar our camera view with the real world. Plot pts as before using scatter, but now adjust viewpoint of the plot to have elevation as $-90$ and azimuth as $-90$.**"
      ]
    },
    {
      "cell_type": "code",
      "metadata": {
        "id": "BRKx6lCHwPRL",
        "colab": {
          "base_uri": "https://localhost:8080/",
          "height": 466
        },
        "outputId": "1a91c17a-d881-45b1-e29b-017b08e0d37a"
      },
      "source": [
        "# Plot pts again but with a different viewpoint\n",
        "\n",
        "fig = plt.figure(figsize=(12, 8))\n",
        "\n",
        "##\n",
        "ax = fig.add_subplot(111, projection='3d')\n",
        "plt.scatter(pts[0],pts[1],zs=pts[2],s=7)\n",
        "ax.view_init(elev=-90, azim=-90)\n",
        "##"
      ],
      "execution_count": null,
      "outputs": [
        {
          "output_type": "display_data",
          "data": {
            "image/png": "[encoded data removed]",
            "text/plain": [
              "<Figure size 864x576 with 1 Axes>"
            ]
          },
          "metadata": {
            "tags": [],
            "needs_background": "light"
          }
        }
      ]
    },
    {
      "cell_type": "markdown",
      "metadata": {
        "id": "YTeEyCZ51lrS"
      },
      "source": [
        "**Which directions are the x, y, and z axes? (i.e. which is the vertical/horizontal/in or out of plane axis? Which direction is the positive direction for each?)**"
      ]
    },
    {
      "cell_type": "markdown",
      "metadata": {
        "id": "IoipQBW01ykt"
      },
      "source": [
        ""
      ]
    },
    {
      "cell_type": "markdown",
      "metadata": {
        "id": "bM2T0uuh1y3N"
      },
      "source": [
        "**Do your camera points look the same as the real world points? (They should)**"
      ]
    },
    {
      "cell_type": "markdown",
      "metadata": {
        "id": "fbvXpZPV2SKz"
      },
      "source": [
        ""
      ]
    },
    {
      "cell_type": "markdown",
      "metadata": {
        "id": "hEj5UVwO14vX"
      },
      "source": [
        "**Now, change the parameters such that $o_x=0$, recompute the projection matrix, reproject the real world points to the pixel coordinates and plot it as before.**"
      ]
    },
    {
      "cell_type": "code",
      "metadata": {
        "id": "JTmj1soR2Ryf",
        "colab": {
          "base_uri": "https://localhost:8080/",
          "height": 265
        },
        "outputId": "07e0b037-a303-4e9b-b53b-1c2a3662659b"
      },
      "source": [
        "##\n",
        "M = Mmatrix(Kmatrix(1000, 1000, 0, 55.3))\n",
        "H = htrans(rotatex(0), trans(42, 33, 1000))\n",
        "P = Pmatrix(M, H)\n",
        "\n",
        "pix_pts2 = np.zeros((3, 20))\n",
        "for i in range(20):\n",
        "  pix_pts2[:, i] = np.matmul(P, pts[:, i])\n",
        "  pix_pts2[:, i] /= pix_pts2[2, i]\n",
        "\n",
        "# Plot these points\n",
        "fig = plt.figure()\n",
        "plt.scatter(pix_pts2[0], pix_pts2[1], s=5)\n",
        "plt.gca().invert_yaxis()\n",
        "##"
      ],
      "execution_count": null,
      "outputs": [
        {
          "output_type": "display_data",
          "data": {
            "image/png": "[encoded data removed]",
            "text/plain": [
              "<Figure size 432x288 with 1 Axes>"
            ]
          },
          "metadata": {
            "tags": [],
            "needs_background": "light"
          }
        }
      ]
    },
    {
      "cell_type": "markdown",
      "metadata": {
        "id": "hyfA3rPk3AA0"
      },
      "source": [
        "**What changed between this and the previous plot you made? What does the parameter $o_x$ represent?**"
      ]
    },
    {
      "cell_type": "markdown",
      "metadata": {
        "id": "vvea9MWd3NMm"
      },
      "source": [
        ""
      ]
    },
    {
      "cell_type": "markdown",
      "metadata": {
        "id": "ZOPBS_3-3OS-"
      },
      "source": [
        "**Now change $s_y=400$ and do the same thing. Keep $o_x=0$ so you can compare without scrolling too far.**"
      ]
    },
    {
      "cell_type": "code",
      "metadata": {
        "id": "kWh4IVzJ3Nhi",
        "colab": {
          "base_uri": "https://localhost:8080/",
          "height": 265
        },
        "outputId": "cd1e8c8f-d097-4e5c-ad19-0651fd41227d"
      },
      "source": [
        "##\n",
        "M = Mmatrix(Kmatrix(1000, 400, 0, 55.3))\n",
        "H = htrans(rotatex(0), trans(42, 33, 1000))\n",
        "P = Pmatrix(M, H)\n",
        "\n",
        "pix_pts2 = np.zeros((3, 20))\n",
        "for i in range(20):\n",
        "  pix_pts2[:, i] = np.matmul(P, pts[:, i])\n",
        "  pix_pts2[:, i] /= pix_pts2[2, i]\n",
        "\n",
        "# Plot these points\n",
        "fig = plt.figure()\n",
        "plt.scatter(pix_pts2[0], pix_pts2[1], s=5)\n",
        "plt.gca().invert_yaxis()\n",
        "##"
      ],
      "execution_count": null,
      "outputs": [
        {
          "output_type": "display_data",
          "data": {
            "image/png": "[encoded data removed]",
            "text/plain": [
              "<Figure size 432x288 with 1 Axes>"
            ]
          },
          "metadata": {
            "tags": [],
            "needs_background": "light"
          }
        }
      ]
    },
    {
      "cell_type": "markdown",
      "metadata": {
        "id": "6pCR6k0y3sFZ"
      },
      "source": [
        "**What changed between this and the previous plot you made? What does the parameter $s_y$ represent?**"
      ]
    },
    {
      "cell_type": "markdown",
      "metadata": {
        "id": "9Nrn9sj63twD"
      },
      "source": [
        ""
      ]
    },
    {
      "cell_type": "markdown",
      "metadata": {
        "id": "sEHIKzrR3uB2"
      },
      "source": [
        "**Now let's try and recover the projection matrix. We've already covered this in the Week 6 Python Notebook, so it should be relatively straightforward. Using the real world coordinates pts and the pixel coordinates obtained when we set $s_y=400$ and $o_x=0$ above, create the $A$ matrix in $Ap=0$ that was covered in class to solve for the projection matrix.**"
      ]
    },
    {
      "cell_type": "code",
      "metadata": {
        "id": "zLL0NnJS86w4"
      },
      "source": [
        "A = np.zeros((2 * 20, 12))\n",
        "\n",
        "##\n",
        "for i in range(20):\n",
        "  base = np.array([pts[0][i], pts[1][i], pts[2][i], 1])\n",
        "  A[2 * i, 0:4] = base\n",
        "  A[2 * i + 1, 4:8] = base\n",
        "  A[2 * i, 8:12] = -pix_pts2[0][i] * base\n",
        "  A[2 * i + 1, 8:12] = -pix_pts2[1][i] * base\n",
        "##"
      ],
      "execution_count": null,
      "outputs": []
    },
    {
      "cell_type": "markdown",
      "metadata": {
        "id": "MkcL-NWr9jQ6"
      },
      "source": [
        "**Compute the projection matrix P by solving for $Ap=0$, and print it. Compare it with the projection matrix computed above to confirm that they are identical.**"
      ]
    },
    {
      "cell_type": "code",
      "metadata": {
        "id": "QxnJFVIZ2s0K",
        "colab": {
          "base_uri": "https://localhost:8080/",
          "height": 119
        },
        "outputId": "fe8d2abb-3fa4-4192-d278-55761e810249"
      },
      "source": [
        "###\n",
        "u, s, vh = np.linalg.svd(A, full_matrices=True)\n",
        "t = vh[-1, :] / vh[-1, -1]\n",
        "P2 = t.reshape(3, 4)\n",
        "print(P)\n",
        "print(P2)\n",
        "###"
      ],
      "execution_count": null,
      "outputs": [
        {
          "output_type": "stream",
          "text": [
            "[[1.00e+03 0.00e+00 0.00e+00 4.20e+04]\n",
            " [0.00e+00 4.00e+02 5.53e+01 6.85e+04]\n",
            " [0.00e+00 0.00e+00 1.00e+00 1.00e+03]]\n",
            "[[ 1.00000000e+00 -3.29692635e-13 -2.48776934e-13  4.20000000e+01]\n",
            " [ 3.29232423e-14  4.00000000e-01  5.53000000e-02  6.85000000e+01]\n",
            " [ 1.14476307e-14 -6.44078770e-15  1.00000000e-03  1.00000000e+00]]\n"
          ],
          "name": "stdout"
        }
      ]
    },
    {
      "cell_type": "markdown",
      "metadata": {
        "id": "CyWt2Cz290Xb"
      },
      "source": [
        "**Recover the K and R matrices, and then the translation vector t using RQ factorization, and print them to make sure they are consistent with the parameters that you provided to create the projection matrix.**"
      ]
    },
    {
      "cell_type": "code",
      "metadata": {
        "id": "LnxnKxgu2s3i",
        "colab": {
          "base_uri": "https://localhost:8080/",
          "height": 136
        },
        "outputId": "c1dc2cd3-4656-450f-9072-1cfd5e29648a"
      },
      "source": [
        "###\n",
        "R, K = np.linalg.qr(P2[0:3, 0:3])\n",
        "t = np.linalg.inv(K) @ P2[0:3, 3]\n",
        "print(K)\n",
        "print(R)\n",
        "print(t)\n",
        "###"
      ],
      "execution_count": null,
      "outputs": [
        {
          "output_type": "stream",
          "text": [
            "[[-1.00000000e+00  3.16523338e-13  2.46944831e-13]\n",
            " [ 0.00000000e+00 -4.00000000e-01 -5.53000000e-02]\n",
            " [ 0.00000000e+00  0.00000000e+00  1.00000000e-03]]\n",
            "[[-1.00000000e+00  3.29232423e-14 -1.14476307e-14]\n",
            " [-3.29232423e-14 -1.00000000e+00  1.61019693e-14]\n",
            " [-1.14476307e-14  1.61019693e-14  1.00000000e+00]]\n",
            "[ -42.  -309.5 1000. ]\n"
          ],
          "name": "stdout"
        }
      ]
    },
    {
      "cell_type": "markdown",
      "metadata": {
        "id": "bDvLpXd5-y7j"
      },
      "source": [
        "**Now pick your own parameters for the intrinsic and extrinsic matrices, project pts, and then recover the projection matrix P. Double check that you're able to recover the matrix.**"
      ]
    },
    {
      "cell_type": "code",
      "metadata": {
        "id": "KAr5xBFi2suZ"
      },
      "source": [
        "###\n",
        "### Have fun\n",
        "###"
      ],
      "execution_count": null,
      "outputs": []
    },
    {
      "cell_type": "markdown",
      "metadata": {
        "id": "zYmdlls5_AcF"
      },
      "source": [
        "###**Uncalibrated stereo**"
      ]
    },
    {
      "cell_type": "markdown",
      "metadata": {
        "id": "lMn8ygXotcwZ"
      },
      "source": [
        "**Now that we're more confident with single camera geometry, let's try relate the geometries and the viewpoints of two cameras. The goal of this is to be able to find a relationship between the location of an object in one camera view and the location of the object in the other camera view.**"
      ]
    },
    {
      "cell_type": "markdown",
      "metadata": {
        "id": "2nCvYbKnti5r"
      },
      "source": [
        "**Here, let's create 20 random points again** "
      ]
    },
    {
      "cell_type": "code",
      "metadata": {
        "id": "qtHva4McD_i1"
      },
      "source": [
        "# Make 20 random 3D points stacked horizontally \n",
        "npoints = 20\n",
        "pts = np.concatenate((np.random.random([3, npoints]),np.ones([1, npoints])),axis=0)\n",
        "pts[0:2,:] = (pts[0:2,:] - 0.5) * 100\n",
        "pts[2,:] = (pts[2,:] - 0.5) * 100 + 1000\n",
        "colors = plt.cm.rainbow(np.linspace(0, 1, npoints))"
      ],
      "execution_count": null,
      "outputs": []
    },
    {
      "cell_type": "markdown",
      "metadata": {
        "id": "Kp-0lzB3uEK6"
      },
      "source": [
        "**We also plot these points, is a couple of different views that will make more sense that the default view.**"
      ]
    },
    {
      "cell_type": "code",
      "metadata": {
        "id": "tCVSJjSDJEwx",
        "colab": {
          "base_uri": "https://localhost:8080/",
          "height": 466
        },
        "outputId": "b146a8ff-c86a-42a6-904b-a3723bdd0bf7"
      },
      "source": [
        "# Plot these points\n",
        "fig = plt.figure(figsize=(48, 8))\n",
        "ax = fig.add_subplot(131, projection='3d')\n",
        "plt.scatter(pts[0],pts[1],zs=pts[2],s=21, c=colors)\n",
        "ax.view_init(elev=-70, azim=-90)\n",
        "\n",
        "ax2 = fig.add_subplot(132, projection='3d')\n",
        "plt.scatter(pts[0],pts[1],zs=pts[2],s=21, c=colors)\n",
        "ax2.view_init(elev=-30, azim=-90)"
      ],
      "execution_count": null,
      "outputs": [
        {
          "output_type": "display_data",
          "data": {
            "image/png": "[encoded data removed]",
            "text/plain": [
              "<Figure size 3456x576 with 2 Axes>"
            ]
          },
          "metadata": {
            "tags": [],
            "needs_background": "light"
          }
        }
      ]
    },
    {
      "cell_type": "markdown",
      "metadata": {
        "id": "g3DB6EtMuLi8"
      },
      "source": [
        "**Now we want to simulate two cameras. For camera 1, create a projection matrix with parameters $s_x=s_y=1000$, $o_x=35$, $o_y=55.3$, with a y-axis rotation by -0.3 radians, and a translation vector of $[280, 33, 1000]$.** \n",
        "\n",
        "**Project the real world pts above into the view of this camera, and plot these pixel coordinates with the same colours as above corresponding to each point (set c=colors) and remember to invert the y-axis.**"
      ]
    },
    {
      "cell_type": "code",
      "metadata": {
        "id": "9396tWlYFb_N",
        "colab": {
          "base_uri": "https://localhost:8080/",
          "height": 265
        },
        "outputId": "0591501f-01f7-4121-9f26-908d64ab67b3"
      },
      "source": [
        "###\n",
        "M1 = Mmatrix(Kmatrix(1000, 1000, 35, 55.3))\n",
        "H1 = htrans(rotatey(-0.3), trans(280, 33, 1000))\n",
        "P1 = Pmatrix(M1, H1)\n",
        "\n",
        "pix_pts_1 = np.zeros((3, npoints))\n",
        "for i in range(npoints):\n",
        "  pix_pts_1[:, i] = np.matmul(P1, pts[:, i])\n",
        "  pix_pts_1[:, i] /= pix_pts_1[2, i]\n",
        "\n",
        "# Plot these points\n",
        "fig = plt.figure()\n",
        "plt.scatter(pix_pts_1[0], pix_pts_1[1], s=7, c=colors)\n",
        "plt.gca().invert_yaxis()\n",
        "###"
      ],
      "execution_count": null,
      "outputs": [
        {
          "output_type": "display_data",
          "data": {
            "image/png": "[encoded data removed]",
            "text/plain": [
              "<Figure size 432x288 with 1 Axes>"
            ]
          },
          "metadata": {
            "tags": [],
            "needs_background": "light"
          }
        }
      ]
    },
    {
      "cell_type": "markdown",
      "metadata": {
        "id": "ZlIe1WaKuzzc"
      },
      "source": [
        "**Now simulate camera 2, by creating a projection matrix with parameters $s_x=s_y=1000$, $o_x=35$, $o_y=55.3$, with a y-axis rotation by 0.3 radians, and a translation vector of $[390, 33, 1000]$.** \n",
        "\n",
        "**Project the real world pts above into the view of this camera, and plot these pixel coordinates with the same colours as above corresponding to each point (set c=colors) and remember to invert the y-axis.**"
      ]
    },
    {
      "cell_type": "code",
      "metadata": {
        "id": "ecQkIIQLF0fT",
        "colab": {
          "base_uri": "https://localhost:8080/",
          "height": 265
        },
        "outputId": "c0d039ab-7c02-4dd3-99fc-d5f2291ff9a2"
      },
      "source": [
        "###\n",
        "M2 = Mmatrix(Kmatrix(1000, 1000, 35, 55.3))\n",
        "H2 = htrans(rotatey(0.3), trans(390, 33, 1000))\n",
        "P2 = Pmatrix(M2, H2)\n",
        "\n",
        "pix_pts_2 = np.zeros((3, npoints))\n",
        "for i in range(npoints):\n",
        "  pix_pts_2[:, i] = np.matmul(P2, pts[:, i])\n",
        "  pix_pts_2[:, i] /= pix_pts_2[2, i]\n",
        "\n",
        "# Plot these points\n",
        "fig = plt.figure()\n",
        "plt.scatter(pix_pts_2[0], pix_pts_2[1], s=7, c=colors)\n",
        "plt.gca().invert_yaxis()\n",
        "###"
      ],
      "execution_count": null,
      "outputs": [
        {
          "output_type": "display_data",
          "data": {
            "image/png": "[encoded data removed]",
            "text/plain": [
              "<Figure size 432x288 with 1 Axes>"
            ]
          },
          "metadata": {
            "tags": [],
            "needs_background": "light"
          }
        }
      ]
    },
    {
      "cell_type": "markdown",
      "metadata": {
        "id": "3_jqAuRRu6wI"
      },
      "source": [
        "**Which camera is the camera on the left? How can you tell?**"
      ]
    },
    {
      "cell_type": "markdown",
      "metadata": {
        "id": "Abf7HInuu-Cq"
      },
      "source": [
        ""
      ]
    },
    {
      "cell_type": "markdown",
      "metadata": {
        "id": "Tmwrp2dou-t1"
      },
      "source": [
        "**Now we have the pixel coordiantes in both images and we know which pairs of points correspond to each other, we can solve for the fundamental matrix, which relates pixel coordinates from one image to another.**\n",
        "\n",
        "**Below, fill in the matrix A that you find in slide 46**"
      ]
    },
    {
      "cell_type": "code",
      "metadata": {
        "id": "yeoBPfYvKOa9"
      },
      "source": [
        "A = np.zeros((npoints, 9))\n",
        "\n",
        "##\n",
        "for i in range(npoints):\n",
        "  base = np.array([pix_pts_2[0, i], pix_pts_2[1, i], 1])\n",
        "  A[i, 0:3] = pix_pts_1[0, i] * base\n",
        "  A[i, 3:6] = pix_pts_1[1, i] * base\n",
        "  A[i, 6:10] = base\n",
        "##"
      ],
      "execution_count": null,
      "outputs": []
    },
    {
      "cell_type": "markdown",
      "metadata": {
        "id": "THnrTDH6vUV8"
      },
      "source": [
        "**Solve for the fundamental matrix given that $Af=0$, and print out the fundamental matrix F. For reference please see slide 62.**"
      ]
    },
    {
      "cell_type": "code",
      "metadata": {
        "id": "Owq2lMP6NLzl",
        "colab": {
          "base_uri": "https://localhost:8080/",
          "height": 68
        },
        "outputId": "ba12c842-81a1-4af8-e650-738c40f48ca3"
      },
      "source": [
        "##\n",
        "u, s, vh = np.linalg.svd(A, full_matrices=True)\n",
        "t = vh[-1, :] / vh[-1, -1]\n",
        "F = t.reshape(3, 3)\n",
        "print(F)\n",
        "##"
      ],
      "execution_count": null,
      "outputs": [
        {
          "output_type": "stream",
          "text": [
            "[[ 7.99641171e-19 -6.48122700e-06  3.58411853e-04]\n",
            " [ 4.73523980e-05 -7.76679301e-19  5.60790126e-02]\n",
            " [-2.61858761e-03 -7.41621952e-02  1.00000000e+00]]\n"
          ],
          "name": "stdout"
        }
      ]
    },
    {
      "cell_type": "markdown",
      "metadata": {
        "id": "9NLTaPJdvs1m"
      },
      "source": [
        "**Try and recover the essential matrix. We can do this because you already know the calibration matrices $K_r$ and $K_l$. Display the result**"
      ]
    },
    {
      "cell_type": "code",
      "metadata": {
        "id": "gzpfEbMGWNse",
        "colab": {
          "base_uri": "https://localhost:8080/",
          "height": 68
        },
        "outputId": "5d35fdd4-ff25-4522-8ac4-6aefdcd67225"
      },
      "source": [
        "##\n",
        "Kl = Kmatrix(1000, 1000, 35, 55.3)\n",
        "Kr = Kmatrix(1000, 1000, 35, 55.3)\n",
        "E = np.matmul(np.matmul(np.transpose(Kl), F), Kr)\n",
        "print(E) \n",
        "##"
      ],
      "execution_count": null,
      "outputs": [
        {
          "output_type": "stream",
          "text": [
            "[[ 7.99641171e-13 -6.48122700e+00 -1.01807451e-13]\n",
            " [ 4.73523980e+01 -7.76679301e-13  5.77363465e+01]\n",
            " [-1.31405303e-13 -7.43890382e+01  4.70734562e-14]]\n"
          ],
          "name": "stdout"
        }
      ]
    },
    {
      "cell_type": "markdown",
      "metadata": {
        "id": "FO_Vno6TwHdc"
      },
      "source": [
        "**Given the essential matrix, we can also recover the rotation between the two cameras. Compute $R$, the rotation between the two cameras, using the essential matrix $E$. Display it, and then using rotatey() display the actual rotation between the two cameras (check the extrinsic matrices of the cameras to determine the true rotation between them).**"
      ]
    },
    {
      "cell_type": "code",
      "metadata": {
        "id": "iso_a7XhWpgf",
        "colab": {
          "base_uri": "https://localhost:8080/",
          "height": 119
        },
        "outputId": "4af6b731-b9cd-40f3-d52a-4e39d4ace164"
      },
      "source": [
        "##\n",
        "u, s, vh = np.linalg.svd(E, full_matrices=True)\n",
        "skew = np.array([[0, -1, 0], [1, 0, 0], [0, 0, 1]])\n",
        "print(np.matmul(np.matmul(u, skew), vh))\n",
        "print(rotatey(-0.6))\n",
        "##"
      ],
      "execution_count": null,
      "outputs": [
        {
          "output_type": "stream",
          "text": [
            "[[ 7.15250891e-01 -6.77278538e-15 -6.98867772e-01]\n",
            " [-5.28232633e-15 -1.00000000e+00  4.43946379e-15]\n",
            " [-6.98867772e-01  5.66525869e-16 -7.15250891e-01]]\n",
            "[[ 0.82533561  0.         -0.56464247]\n",
            " [ 0.          1.          0.        ]\n",
            " [ 0.56464247  0.          0.82533561]]\n"
          ],
          "name": "stdout"
        }
      ]
    },
    {
      "cell_type": "markdown",
      "metadata": {
        "id": "EAPnn8piwh5e"
      },
      "source": [
        "**Are they the same? They should be.**"
      ]
    },
    {
      "cell_type": "markdown",
      "metadata": {
        "id": "2TdPRv1JwkVt"
      },
      "source": [
        "**Now try and recover the translation, and display the result.**"
      ]
    },
    {
      "cell_type": "code",
      "metadata": {
        "id": "ZV3Wt8u_W8Xd",
        "colab": {
          "base_uri": "https://localhost:8080/",
          "height": 34
        },
        "outputId": "0404c5e3-cb3b-4074-b43d-aa26842ff885"
      },
      "source": [
        "##\n",
        "print(np.array([u[0, 2], u[1,2], u[2, 2]]))\n",
        "##"
      ],
      "execution_count": null,
      "outputs": [
        {
          "output_type": "stream",
          "text": [
            "[-9.96225994e-01  5.77315973e-15  8.67972885e-02]\n"
          ],
          "name": "stdout"
        }
      ]
    },
    {
      "cell_type": "markdown",
      "metadata": {
        "id": "pEKPSXP1wm_3"
      },
      "source": [
        "**Chances are, this will be different from the true translation between the cameras. Why is this so?**"
      ]
    },
    {
      "cell_type": "markdown",
      "metadata": {
        "id": "ppq13DISwtxt"
      },
      "source": [
        ""
      ]
    },
    {
      "cell_type": "markdown",
      "metadata": {
        "id": "bHR3u8TVwuRi"
      },
      "source": [
        "**Now let's try and plot the epipolar lines. Write a function that given the fundamental matrix and an image pixel coordinate in either the left or the right image, returns the coefficients of the epipolar line in the other image.**"
      ]
    },
    {
      "cell_type": "code",
      "metadata": {
        "id": "vyGAMsKE0pCV"
      },
      "source": [
        "def findEpipolar(F, pix_l=None, pix_r=None):\n",
        "  \"\"\" Computes the epipolar line coefficients given the fundamental matrix F and either\n",
        "      the pixel coordinates in the left image (pix_l) or the pixel coordinates in the \n",
        "      right image (pix_r)\n",
        "      Args:\n",
        "        F: Fundamenal matrix 3x3 that relates pixels in one image to another\n",
        "        pix_l: Pixel coordinate in the left image (shape [3, 1])\n",
        "        pix_r: Pixel coordinate in the right image(shape [1, 3])\n",
        "      Return:\n",
        "        line_coeff: The coefficients of the epipolar line in the other image\n",
        "                    If the equation is au + bv + c = 0, the line_coeff = [a, b, c]\n",
        "  \"\"\"\n",
        "\n",
        "  # If the right pixel coordinate is provided, we want to find the coefficients of\n",
        "  # the line in the left image\n",
        "  if pix_l is None:\n",
        "    ##\n",
        "    line_coeff = np.matmul(F, pix_r)\n",
        "    ##\n",
        "\n",
        "  # If the left pixel coordinate is provided, we want to find the coefficients of \n",
        "  # the line in the right image\n",
        "  elif pix_r is None:\n",
        "    ##\n",
        "    line_coeff = np.matmul(np.transpose(F), pix_l)\n",
        "    ##\n",
        "\n",
        "  else:\n",
        "    line_coeff = None\n",
        "\n",
        "  return line_coeff"
      ],
      "execution_count": null,
      "outputs": []
    },
    {
      "cell_type": "markdown",
      "metadata": {
        "id": "A5QdbDHT5H7j"
      },
      "source": [
        "**Now complete the function below, that given the coefficient of the line and either the $x$ or the $y$ coordinate, finds the other one.**"
      ]
    },
    {
      "cell_type": "code",
      "metadata": {
        "id": "nVRqfmVD5gVl"
      },
      "source": [
        "def findOther(line_coeff, u=None, v=None):\n",
        "  \"\"\" Given the coefficients of au + bv + c = 0 in the form [a, b, c], compute either\n",
        "      u if v is given, or v if u is given.\n",
        "      Args:\n",
        "        line_coeff: [a, b, c] vector of the coefficients of the equation above\n",
        "        u: The x coordinate of the pixel\n",
        "        v: The y coordinate of the pixel\n",
        "      Return:\n",
        "        The other pixel coordinate, None if nothing else is provided\n",
        "  \"\"\"\n",
        "\n",
        "  if u is None:\n",
        "    ##\n",
        "    return (-line_coeff[2] - (line_coeff[1] * v)) / line_coeff[0]\n",
        "    ##\n",
        "\n",
        "  elif v is None:\n",
        "    ##\n",
        "    return (-line_coeff[2] - (line_coeff[0] * u)) / line_coeff[1]\n",
        "    ##\n",
        "\n",
        "  return None"
      ],
      "execution_count": null,
      "outputs": []
    },
    {
      "cell_type": "markdown",
      "metadata": {
        "id": "8o_RT0G3-X6L"
      },
      "source": [
        "**Now, using the two functions above, plot the epipolar lines corresponding to the points from the right image onto the left image. Plot the points in the left image in the same plot. Make sure that the colours match, and each point in the left image should have an epipolar line that passes through them.**"
      ]
    },
    {
      "cell_type": "code",
      "metadata": {
        "id": "4HUhCfJ-y1_a",
        "colab": {
          "base_uri": "https://localhost:8080/",
          "height": 265
        },
        "outputId": "90898830-43d3-420e-808d-90c497ba6df7"
      },
      "source": [
        "##\n",
        "fig = plt.figure()\n",
        "plt.scatter(pix_pts_1[0], pix_pts_1[1], s=7, c=colors)\n",
        "\n",
        "for i in range(npoints):\n",
        "  line_coeff = findEpipolar(F, None, pix_pts_2[:, i])\n",
        "  v1 = findOther(line_coeff, u=0)\n",
        "  v2 = findOther(line_coeff, u=50)\n",
        "  plt.plot([0, 50], [v1, v2], c=colors[i])\n",
        "\n",
        "plt.gca().invert_yaxis()\n",
        "##"
      ],
      "execution_count": null,
      "outputs": [
        {
          "output_type": "display_data",
          "data": {
            "image/png": "[encoded data removed]",
            "text/plain": [
              "<Figure size 432x288 with 1 Axes>"
            ]
          },
          "metadata": {
            "tags": [],
            "needs_background": "light"
          }
        }
      ]
    },
    {
      "cell_type": "markdown",
      "metadata": {
        "id": "368RhFpM_Clo"
      },
      "source": [
        "**Now do the same thing, plotting the epipolar lines corresponding to left image points onto the right image.**"
      ]
    },
    {
      "cell_type": "code",
      "metadata": {
        "id": "MCXuCpLI-wpU",
        "colab": {
          "base_uri": "https://localhost:8080/",
          "height": 265
        },
        "outputId": "3eca73eb-9fc7-44f9-bd6d-3f216c57ab23"
      },
      "source": [
        "##\n",
        "fig = plt.figure()\n",
        "plt.scatter(pix_pts_2[0], pix_pts_2[1], s=7, c=colors)\n",
        "\n",
        "for i in range(npoints):\n",
        "  line_coeff = findEpipolar(F, pix_pts_1[:, i], None)\n",
        "  v1 = findOther(line_coeff, u=360)\n",
        "  v2 = findOther(line_coeff, u=410)\n",
        "  plt.plot([360, 410], [v1, v2], c=colors[i])\n",
        "\n",
        "plt.gca().invert_yaxis()\n",
        "##"
      ],
      "execution_count": null,
      "outputs": [
        {
          "output_type": "display_data",
          "data": {
            "image/png": "[encoded data removed]",
            "text/plain": [
              "<Figure size 432x288 with 1 Axes>"
            ]
          },
          "metadata": {
            "tags": [],
            "needs_background": "light"
          }
        }
      ]
    },
    {
      "cell_type": "markdown",
      "metadata": {
        "id": "Izm_huEy_Mgz"
      },
      "source": [
        "**Now, change the extrinsics of one of the cameras to include another rotation in either x or z in addition to the y rotation, and plot the epipolar lines.**"
      ]
    },
    {
      "cell_type": "code",
      "metadata": {
        "id": "oGGtogVBzZYg",
        "colab": {
          "base_uri": "https://localhost:8080/",
          "height": 265
        },
        "outputId": "e42c2c4d-0f8a-40dd-9c1d-4c5958fbefe8"
      },
      "source": [
        "###\n",
        "M3 = Mmatrix(Kmatrix(1000, 1000, 35, 55.3))\n",
        "H3 = htrans(rotatey(0.5) * rotatex(0.8), trans(390, 33, 1000))\n",
        "P3 = Pmatrix(M3, H3)\n",
        "\n",
        "pix_pts_3 = np.zeros((3, npoints))\n",
        "for i in range(npoints):\n",
        "  pix_pts_3[:, i] = np.matmul(P3, pts[:, i])\n",
        "  pix_pts_3[:, i] /= pix_pts_3[2, i]\n",
        "\n",
        "# Plot these points\n",
        "fig = plt.figure()\n",
        "plt.scatter(pix_pts_3[0], pix_pts_3[1], s=7, c=colors)\n",
        "plt.gca().invert_yaxis()\n",
        "###"
      ],
      "execution_count": null,
      "outputs": [
        {
          "output_type": "display_data",
          "data": {
            "image/png": "[encoded data removed]",
            "text/plain": [
              "<Figure size 432x288 with 1 Axes>"
            ]
          },
          "metadata": {
            "tags": [],
            "needs_background": "light"
          }
        }
      ]
    },
    {
      "cell_type": "code",
      "metadata": {
        "id": "1ou8tNXR_tvF",
        "colab": {
          "base_uri": "https://localhost:8080/",
          "height": 68
        },
        "outputId": "2aac64c8-bc50-4a5c-c295-2298342b3428"
      },
      "source": [
        "A = np.zeros((npoints, 9))\n",
        "\n",
        "##\n",
        "for i in range(npoints):\n",
        "  base = np.array([pix_pts_3[0, i], pix_pts_3[1, i], 1])\n",
        "  A[i, 0:3] = pix_pts_1[0, i] * base\n",
        "  A[i, 3:6] = pix_pts_1[1, i] * base\n",
        "  A[i, 6:10] = base\n",
        "##\n",
        "\n",
        "##\n",
        "u, s, vh = np.linalg.svd(A, full_matrices=True)\n",
        "t = vh[-1, :] / vh[-1, -1]\n",
        "F = t.reshape(3, 3)\n",
        "print(F)\n",
        "##"
      ],
      "execution_count": null,
      "outputs": [
        {
          "output_type": "stream",
          "text": [
            "[[ 2.13779757e-07 -4.40088478e-05  3.41814783e-03]\n",
            " [ 3.84193557e-05 -5.76117700e-20  7.22827710e-03]\n",
            " [-2.82316450e-03 -1.99484322e-02  1.00000000e+00]]\n"
          ],
          "name": "stdout"
        }
      ]
    },
    {
      "cell_type": "code",
      "metadata": {
        "id": "gYdTJCSn_8PM",
        "colab": {
          "base_uri": "https://localhost:8080/",
          "height": 265
        },
        "outputId": "62a6f610-5cf2-45d5-aa1f-201ff7b696de"
      },
      "source": [
        "##\n",
        "fig = plt.figure()\n",
        "plt.scatter(pix_pts_1[0], pix_pts_1[1], s=7, c=colors)\n",
        "\n",
        "for i in range(npoints):\n",
        "  line_coeff = findEpipolar(F, None, pix_pts_3[:, i])\n",
        "  v1 = findOther(line_coeff, u=0)\n",
        "  v2 = findOther(line_coeff, u=50)\n",
        "  plt.plot([0, 50], [v1, v2], c=colors[i])\n",
        "\n",
        "plt.gca().invert_yaxis()\n",
        "##"
      ],
      "execution_count": null,
      "outputs": [
        {
          "output_type": "display_data",
          "data": {
            "image/png": "[encoded data removed]",
            "text/plain": [
              "<Figure size 432x288 with 1 Axes>"
            ]
          },
          "metadata": {
            "tags": [],
            "needs_background": "light"
          }
        }
      ]
    }
  ]
}