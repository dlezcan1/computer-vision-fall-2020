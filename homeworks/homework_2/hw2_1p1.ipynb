{
 "cells": [
  {
   "cell_type": "markdown",
   "metadata": {},
   "source": [
    "# **Computer Vision 600.661: Homework 2**\n",
    "## **2D Transformations**\n",
    "\n",
    "### Dimitri Lezcano"
   ]
  },
  {
   "cell_type": "markdown",
   "metadata": {},
   "source": [
    "### **Imports**"
   ]
  },
  {
   "cell_type": "code",
   "execution_count": 1,
   "metadata": {},
   "outputs": [],
   "source": [
    "%matplotlib inline\n",
    "import numpy as np\n",
    "import numpy.linalg as la\n",
    "import cv2\n",
    "import matplotlib.pyplot as plt\n"
   ]
  },
  {
   "cell_type": "markdown",
   "metadata": {},
   "source": [
    "### **Short Answers**"
   ]
  },
  {
   "cell_type": "markdown",
   "metadata": {},
   "source": [
    "#### 1) Load source points from 1a.npy and matching target points from 1b.npy, all of which are correct, compute the corresponding affine transformations or indicate that it is not possible to and why\n",
    "\n",
    "\n",
    "*1a.npy and 1b.npy both contain a 10x3 array where each row is a 3D point. The first row\n",
    "of 1a.npy matches the first row of 1b.npy; The second row of 1a.npy matches the second\n",
    "row of 1b.npy and so forth. You will need numpy.load() to load data points. Note that to\n",
    "check if a value x is equal to 1, you may use $abs(x-1)<eps$ instead of $x==1$.*"
   ]
  },
  {
   "cell_type": "markdown",
   "metadata": {},
   "source": [
    "Load the source and target points"
   ]
  },
  {
   "cell_type": "code",
   "execution_count": 2,
   "metadata": {},
   "outputs": [
    {
     "name": "stdout",
     "output_type": "stream",
     "text": [
      "(10, 2) (10, 2)\n"
     ]
    }
   ],
   "source": [
    "source_1 = np.load('short_questions/1a.npy')\n",
    "target_1 = np.load('short_questions/1b.npy')\n",
    "print(source_1.shape, target_1.shape)"
   ]
  },
  {
   "cell_type": "markdown",
   "metadata": {},
   "source": [
    "Functions for creating 2-D affine tensor"
   ]
  },
  {
   "cell_type": "code",
   "execution_count": 3,
   "metadata": {},
   "outputs": [],
   "source": [
    "def affine_2d_Ab(X, Y):\n",
    "    ''' create the A matrix for affine transformation\n",
    "    \n",
    "        Args:\n",
    "            - X: the source points ( N x 2 )\n",
    "            - Y: the target points ( N x 2 )\n",
    "            \n",
    "        Returns:\n",
    "            - A: the A (2*N x 6) matrix for least squares formulation\n",
    "            - b: the b (2*N) vector for least squares formulation\n",
    "    \n",
    "    '''\n",
    "    # initialize the matrices\n",
    "    A = np.zeros( ( 2*X.shape[0], 6 ) )\n",
    "    b = Y.reshape(-1)\n",
    "    \n",
    "    Xh = np.hstack( ( X, np.ones( ( X.shape[0], 1 ) ) ) )\n",
    "#     Yh = np.hstack( ( Y, np.ones( ( X.shape[0], 1 ) ) ) )\n",
    "\n",
    "    A[0::2, :3] = Xh\n",
    "    A[1::2, 3:] = Xh\n",
    "    \n",
    "    \n",
    "    \n",
    "    return A, b\n",
    "    \n",
    "# affine_2d_Ab\n",
    "\n",
    "def get_affinetransform(X, Y):\n",
    "    ''' wrapper function for ease of use for affine transform'''\n",
    "    A, b = affine_2d_Ab(source, target)\n",
    "    t = la.inv(A.T @ A) @ A.T @ b # transform vector\n",
    "    affine_transform = np.vstack((t.reshape(2,3), [0, 0, 1]))\n",
    "    \n",
    "    return affine_transform\n",
    "\n",
    "# get_affinetransform"
   ]
  },
  {
   "cell_type": "code",
   "execution_count": 4,
   "metadata": {},
   "outputs": [
    {
     "name": "stdout",
     "output_type": "stream",
     "text": [
      "Transform:\n",
      "[[2.  3.  7. ]\n",
      " [1.5 1.  8.7]\n",
      " [0.  0.  1. ]]\n"
     ]
    }
   ],
   "source": [
    "A, b = affine_2d_Ab(source_1, target_1)\n",
    "\n",
    "# check the invertibiity of A.T @ A\n",
    "check_det = la.det(A.T @ A)\n",
    "if abs(check_det) < 1e-5: # check for invertibility\n",
    "    print(\"No solution!\")\n",
    "    \n",
    "else:\n",
    "    print(\"Transform:\")\n",
    "    t = la.inv(A.T @ A) @ A.T @ b # transform vector\n",
    "    affine_transform = np.vstack((t.reshape(2,3), [0, 0, 1]))\n",
    "    print(affine_transform)\n"
   ]
  },
  {
   "cell_type": "markdown",
   "metadata": {},
   "source": [
    "#### 2) Load source points from 2a.npy and matching target points from 2b.npy, all of which are correct, compute the corresponding homography or indicate that it is not possible to and why"
   ]
  },
  {
   "cell_type": "markdown",
   "metadata": {},
   "source": [
    "Load the source and target points"
   ]
  },
  {
   "cell_type": "code",
   "execution_count": 5,
   "metadata": {},
   "outputs": [
    {
     "name": "stdout",
     "output_type": "stream",
     "text": [
      "(10, 2) (10, 2)\n"
     ]
    }
   ],
   "source": [
    "source_2 = np.load('short_questions/2a.npy')\n",
    "target_2 = np.load('short_questions/2b.npy')\n",
    "print(source_2.shape, target_2.shape)"
   ]
  },
  {
   "cell_type": "markdown",
   "metadata": {},
   "source": [
    "Functions for creating 2-D homography tensor"
   ]
  },
  {
   "cell_type": "code",
   "execution_count": 6,
   "metadata": {},
   "outputs": [],
   "source": [
    "def homography_2d_A(X, Y):\n",
    "    ''' create the A matrix for homography transformation\n",
    "    \n",
    "        Args:\n",
    "            - X: the source points ( N x 2 )\n",
    "            - Y: the target points ( N x 2 )\n",
    "            \n",
    "        Returns:\n",
    "            - A: the A (2*N x 9) matrix for least squares formulation\n",
    "    \n",
    "    '''\n",
    "    # initialize the matrices\n",
    "    A = np.zeros( ( 2*X.shape[0], 9 ) )\n",
    "    \n",
    "    Xh = np.hstack( ( X, np.ones( ( X.shape[0], 1 ) ) ) )\n",
    "\n",
    "    A[:, 0:6] = affine_2d_Ab(X, Y)[0] \n",
    "    \n",
    "    A[0::2, 6:] = -Y[:,0].reshape(-1,1) * Xh\n",
    "    A[1::2, 6:] = -Y[:,1].reshape(-1,1) * Xh\n",
    "    \n",
    "    return A\n",
    "    \n",
    "# homography_2d_A\n",
    "\n",
    "def solveA_svd(A):\n",
    "    ''' Function to return the solution of:\n",
    "        \n",
    "        argmin_x ||A x||^2 \n",
    "        \n",
    "        Args:\n",
    "            - A: the matrix\n",
    "            \n",
    "        Return:\n",
    "            - x = argmin of above 1-D vector\n",
    "            - s = the associated singular value\n",
    "    \n",
    "    '''\n",
    "    # perform the svd of A\n",
    "    u, s, vh = la.svd(A)\n",
    "    \n",
    "    # last singular value is the smallest \n",
    "    s_min = s[-1]\n",
    "    v_min = vh[-1,:]\n",
    "    v_min = v_min/la.norm(v_min)\n",
    "    \n",
    "    return v_min, s_min\n",
    "    \n",
    "# solveA_svd\n",
    "\n",
    "def get_homography(X, Y):\n",
    "    ''' wrapper function for ease of use for homography'''\n",
    "    A = homography_2d_A(X, Y)\n",
    "\n",
    "    t, s = solveA_svd(A)\n",
    "    T = t.reshape(3,3)\n",
    "    \n",
    "    return T\n",
    "\n",
    "# get_homography\n",
    "\n",
    "def apply_homography(T, X):\n",
    "    ''' applies homography to row-wise coordinates\n",
    "        \n",
    "        Args:\n",
    "            - T  ( 3 x 3 ) homography transform\n",
    "            - X  ( N x 2 ) points to be transform\n",
    "    \n",
    "    '''\n",
    "    Xh = np.hstack( (X, np.ones((X.shape[0], 1)) ) )\n",
    "    \n",
    "    Yh = Xh @ T.T # project coordinates\n",
    "    \n",
    "    Yh /= Yh[:,-1].reshape(-1, 1) # normalize the scale coordinate\n",
    "    \n",
    "    return Yh[:,0:2]\n",
    "\n",
    "# apply_homography    "
   ]
  },
  {
   "cell_type": "markdown",
   "metadata": {},
   "source": [
    "Compute the homography (if it exists)"
   ]
  },
  {
   "cell_type": "code",
   "execution_count": 7,
   "metadata": {},
   "outputs": [
    {
     "name": "stdout",
     "output_type": "stream",
     "text": [
      "Homography:\n",
      "[[ 6.44156626e-02  6.44156626e-02  3.22078313e-01]\n",
      " [ 5.15325301e-01  4.50909638e-01  6.44156626e-01]\n",
      " [-4.16333634e-17  1.31838984e-16  6.44156626e-02]]\n",
      "min. singular value: 0.0\n",
      "\n",
      "projected points:\n",
      " [[ 10.78332596  55.21205262  10.78332596  55.21205262]\n",
      " [  4.62048815   5.79758006   4.62048815   5.79758006]\n",
      " [  3.496768    -4.90295631   3.496768    -4.90295631]\n",
      " [  5.43374702  10.98870859   5.43374702  10.98870859]\n",
      " [  3.86273816   5.03362272   3.86273816   5.03362272]\n",
      " [  4.97481549  14.48987844   4.97481549  14.48987844]\n",
      " [  7.45888215  27.02865553   7.45888215  27.02865553]\n",
      " [ -2.75831732 -47.2460117   -2.75831732 -47.2460117 ]\n",
      " [  4.59591726  10.31552266   4.59591726  10.31552266]\n",
      " [ -1.06979797 -37.48019405  -1.06979797 -37.48019405]]\n",
      "residuals: [7.10764746e-14 3.68031816e-14 5.74662420e-14 9.09461741e-14\n",
      " 3.26095768e-14 1.30065838e-13 2.00187219e-13 3.12791422e-13\n",
      " 5.86534092e-14 1.04625194e-13]\n"
     ]
    }
   ],
   "source": [
    "A = homography_2d_A(source_2, target_2)\n",
    "\n",
    "t, s = solveA_svd(A)\n",
    "T = t.reshape(3,3)\n",
    "if abs(s) < 1:\n",
    "    print(\"Homography:\")\n",
    "    print(t.reshape(3,3))\n",
    "    \n",
    "else:\n",
    "    print(\"No homography!\")\n",
    "\n",
    "print(\"min. singular value:\", s.round(3))\n",
    "print()\n",
    "    \n",
    "# check the fitting\n",
    "proj_hc = apply_homography(T, source_2)\n",
    "\n",
    "print('projected points:\\n', np.hstack((proj_hc, target_2)))\n",
    "print(\"residuals:\", la.norm(proj_hc - target_2, axis=1))\n",
    "# print(A)"
   ]
  },
  {
   "cell_type": "markdown",
   "metadata": {},
   "source": [
    "#### 3) Load source points from 3a.npy and matching target points from 3b.npy, more than 50% of which are correct, compute the corresponding homography or indicate that it is not possible to and why."
   ]
  },
  {
   "cell_type": "markdown",
   "metadata": {},
   "source": [
    "Load the source and target points"
   ]
  },
  {
   "cell_type": "code",
   "execution_count": 8,
   "metadata": {},
   "outputs": [
    {
     "name": "stdout",
     "output_type": "stream",
     "text": [
      "(15, 2) (15, 2)\n"
     ]
    }
   ],
   "source": [
    "source_3 = np.load('short_questions/3a.npy')\n",
    "target_3 = np.load('short_questions/3b.npy')\n",
    "print(source_3.shape, target_3.shape)"
   ]
  },
  {
   "cell_type": "code",
   "execution_count": 9,
   "metadata": {},
   "outputs": [
    {
     "name": "stdout",
     "output_type": "stream",
     "text": [
      "Homography:\n",
      "[[-1.61740725e-01 -4.75514187e-01 -5.64874749e-01]\n",
      " [-3.58834826e-01 -5.38578373e-01 -6.47067389e-02]\n",
      " [-2.08445040e-04 -2.89103444e-03 -7.49550076e-02]]\n",
      "min. singular value: 0.931\n",
      "\n",
      "residuals: [1.87923372 2.61294581 1.36613482 2.43095904 2.39037785 4.4153293\n",
      " 2.20971265 1.65195194 1.96330236 3.64208203 0.79705955 0.21975302\n",
      " 6.69177436 1.35749378 5.43558938]\n"
     ]
    }
   ],
   "source": [
    "A = homography_2d_A(source_3, target_3)\n",
    "\n",
    "t, s = solveA_svd(A)\n",
    "T = t.reshape(3,3)\n",
    "if abs(s) < 1:\n",
    "    print(\"Homography:\")\n",
    "    print(t.reshape(3,3))\n",
    "    \n",
    "else:\n",
    "    print(\"No homography!\")\n",
    "\n",
    "print(\"min. singular value:\", s.round(3))\n",
    "print()\n",
    "    \n",
    "# check the fitting\n",
    "proj_hc = apply_homography(T, source_3)\n",
    "\n",
    "# print('projected points:\\n', proj_hc)\n",
    "print(\"residuals:\", la.norm(proj_hc - target_3, axis=1))\n",
    "# print(A) "
   ]
  },
  {
   "cell_type": "markdown",
   "metadata": {},
   "source": [
    "#### 4) Load gradients from gradients.npy, where there are 20 data points, and each data point contains (x_gradient, y_gradient), compute a weighted histogram of gradients, where the contribution of each gradient is proportional to the magnitude of the gradient."
   ]
  },
  {
   "cell_type": "code",
   "execution_count": 10,
   "metadata": {},
   "outputs": [
    {
     "name": "stdout",
     "output_type": "stream",
     "text": [
      "(20, 2)\n",
      "[[ 3.31059866  0.98172725]\n",
      " [ 8.02411192 -0.64208713]\n",
      " [-0.83348136 -0.36987388]\n",
      " [-1.38412924  3.90033308]\n",
      " [ 2.52412992 -3.15266793]\n",
      " [ 2.19719408  3.79265404]\n",
      " [ 1.04580161 -0.96197084]\n",
      " [ 3.18011108  2.0753385 ]\n",
      " [-3.08244881  3.66698989]\n",
      " [ 1.74656812  0.72235777]\n",
      " [ 3.50571742 -0.40067184]\n",
      " [ 0.10905359 -1.6784169 ]\n",
      " [-3.18885809  0.47427702]\n",
      " [-0.9212774  -1.61707045]\n",
      " [-2.12063589  2.40854425]\n",
      " [ 0.35050866  0.94960686]\n",
      " [ 4.62663359 -5.24011843]\n",
      " [-2.13799972 -0.5846658 ]\n",
      " [-4.63111551  1.36140212]\n",
      " [-3.9848066   3.79259554]]\n"
     ]
    }
   ],
   "source": [
    "grads = np.load('short_questions/gradients.npy')\n",
    "\n",
    "print(grads.shape)\n",
    "print(grads)"
   ]
  },
  {
   "cell_type": "markdown",
   "metadata": {},
   "source": [
    "Function for computing weighted histograms for 2-D gradients"
   ]
  },
  {
   "cell_type": "code",
   "execution_count": 11,
   "metadata": {},
   "outputs": [],
   "source": [
    "def gradient_histw(grads, n_bins = 10, plot:bool=False):\n",
    "    ''' function to compute the weighted histogram of gradients\n",
    "        \n",
    "        Args:\n",
    "            - grads: [N x 2] array of (x, y) gradient vectors\n",
    "            - n_binds: integer of the number of bins to use (Default = 10)\n",
    "            - plot: plotting argument\n",
    "            \n",
    "        Returns:\n",
    "            - theta: a `n_bins`-vector of the directions of gradients\n",
    "            - histw: a `n_bins`-vector of the weighted histogram\n",
    "            \n",
    "    \n",
    "    '''\n",
    "    # compute theta array\n",
    "    theta = np.linspace(0, 2*np.pi, n_bins)\n",
    "    \n",
    "    # compute gradient directions and magnitudes\n",
    "    theta_grads = np.arctan2(grads[:,1], grads[:,0])\n",
    "    mag_grads = la.norm(grads, axis=1)\n",
    "    \n",
    "    # reorient so angles are between 0 and 2*pi\n",
    "    theta_grads[theta_grads < 0] += 2*np.pi\n",
    "    \n",
    "    # compute a histogram\n",
    "    histw, bins = np.histogram(theta_grads, bins=theta, weights=mag_grads)\n",
    "    \n",
    "    if plot:\n",
    "        plt.hist(np.rad2deg(theta_grads), bins=np.rad2deg(theta), weights=mag_grads)\n",
    "        plt.xlabel('theta (degs)')\n",
    "        plt.title('Histogram of Gradients')\n",
    "    \n",
    "    \n",
    "    return theta, histw\n",
    "    \n",
    "# gradient_histw"
   ]
  },
  {
   "cell_type": "code",
   "execution_count": 6,
   "metadata": {},
   "outputs": [],
   "source": [
    "def homography_2d_A(X, Y):\n",
    "    ''' create the A matrix for homography transformation\n",
    "    \n",
    "        Args:\n",
    "            - X: the source points ( N x 2 )\n",
    "            - Y: the target points ( N x 2 )\n",
    "            \n",
    "        Returns:\n",
    "            - A: the A (2*N x 9) matrix for least squares formulation\n",
    "    \n",
    "    '''\n",
    "    # initialize the matrices\n",
    "    A = np.zeros( ( 2*X.shape[0], 9 ) )\n",
    "    \n",
    "    Xh = np.hstack( ( X, np.ones( ( X.shape[0], 1 ) ) ) )\n",
    "\n",
    "    A[:, 0:6] = affine_2d_Ab(X, Y)[0] \n",
    "    \n",
    "    A[0::2, 6:] = -Y[:,0].reshape(-1,1) * Xh\n",
    "    A[1::2, 6:] = -Y[:,1].reshape(-1,1) * Xh\n",
    "    \n",
    "    return A\n",
    "    \n",
    "# homography_2d_A\n",
    "\n",
    "def solveA_svd(A):\n",
    "    ''' Function to return the solution of:\n",
    "        \n",
    "        argmin_x ||A x||^2 \n",
    "        \n",
    "        Args:\n",
    "            - A: the matrix\n",
    "            \n",
    "        Return:\n",
    "            - x = argmin of above 1-D vector\n",
    "            - s = the associated singular value\n",
    "    \n",
    "    '''\n",
    "    # perform the svd of A\n",
    "    u, s, vh = la.svd(A)\n",
    "    \n",
    "    # last singular value is the smallest \n",
    "    s_min = s[-1]\n",
    "    v_min = vh[-1,:]\n",
    "    v_min = v_min/la.norm(v_min)\n",
    "    \n",
    "    return v_min, s_min\n",
    "    \n",
    "# solveA_svd\n",
    "\n",
    "def get_homography(X, Y):\n",
    "    ''' wrapper function for ease of use for homography'''\n",
    "    A = homography_2d_A(X, Y)\n",
    "\n",
    "    t, s = solveA_svd(A)\n",
    "    T = t.reshape(3,3)\n",
    "    \n",
    "    return T\n",
    "\n",
    "# get_homography\n",
    "\n",
    "def apply_homography(T, X):\n",
    "    ''' applies homography to row-wise coordinates\n",
    "        \n",
    "        Args:\n",
    "            - T  ( 3 x 3 ) homography transform\n",
    "            - X  ( N x 2 ) points to be transform\n",
    "    \n",
    "    '''\n",
    "    Xh = np.hstack( (X, np.ones((X.shape[0], 1)) ) )\n",
    "    \n",
    "    Yh = Xh @ T.T # project coordinates\n",
    "    \n",
    "    Yh /= Yh[:,-1].reshape(-1, 1) # normalize the scale coordinate\n",
    "    \n",
    "    return Yh[:,0:2]\n",
    "\n",
    "# apply_homography    "
   ]
  },
  {
   "cell_type": "markdown",
   "metadata": {},
   "source": [
    "Compute the weighted histrogram of `gradients.npy` and plot it."
   ]
  },
  {
   "cell_type": "code",
   "execution_count": 12,
   "metadata": {},
   "outputs": [
    {
     "name": "stdout",
     "output_type": "stream",
     "text": [
      "[ 9.14053171  5.39536657  4.13864855 13.50065006 10.26751003  0.91186505\n",
      "  3.54304946 12.44989872 11.57830046]\n",
      "[0.         0.6981317  1.3962634  2.0943951  2.7925268  3.4906585\n",
      " 4.1887902  4.88692191 5.58505361 6.28318531]\n"
     ]
    },
    {
     "data": {
      "image/png": "[encoded data removed]",
      "text/plain": [
       "<Figure size 432x288 with 1 Axes>"
      ]
     },
     "metadata": {
      "needs_background": "light"
     },
     "output_type": "display_data"
    }
   ],
   "source": [
    "theta, grads_hist = gradient_histw(grads,plot=True)\n",
    "\n",
    "print(grads_hist)\n",
    "print(theta)"
   ]
  },
  {
   "cell_type": "markdown",
   "metadata": {},
   "source": [
    "#### 5) Compute the gradients of the bikes1.png, graf1.png, leuven1.png and wall1.png and produce the histogram of gradients for each image."
   ]
  },
  {
   "cell_type": "code",
   "execution_count": 13,
   "metadata": {},
   "outputs": [
    {
     "name": "stdout",
     "output_type": "stream",
     "text": [
      "bikes1:\n",
      "{bins, hist} dict added!\n",
      "\n",
      "graf1:\n",
      "{bins, hist} dict added!\n",
      "\n",
      "leuven1:\n",
      "{bins, hist} dict added!\n",
      "\n",
      "wall1:\n",
      "{bins, hist} dict added!\n",
      "\n",
      "dict_keys(['bikes1.png', 'graf1.png', 'leuven1.png', 'wall1.png'])\n"
     ]
    },
    {
     "data": {
      "image/png": "[encoded data removed]",
      "text/plain": [
       "<Figure size 432x288 with 1 Axes>"
      ]
     },
     "metadata": {
      "needs_background": "light"
     },
     "output_type": "display_data"
    },
    {
     "data": {
      "image/png": "[encoded data removed]",
      "text/plain": [
       "<Figure size 432x288 with 1 Axes>"
      ]
     },
     "metadata": {
      "needs_background": "light"
     },
     "output_type": "display_data"
    },
    {
     "data": {
      "image/png": "[encoded data removed]",
      "text/plain": [
       "<Figure size 432x288 with 1 Axes>"
      ]
     },
     "metadata": {
      "needs_background": "light"
     },
     "output_type": "display_data"
    },
    {
     "data": {
      "image/png": "[encoded data removed]",
      "text/plain": [
       "<Figure size 432x288 with 1 Axes>"
      ]
     },
     "metadata": {
      "needs_background": "light"
     },
     "output_type": "display_data"
    }
   ],
   "source": [
    "directory = \"data/\"\n",
    "files = ['bikes1.png', 'graf1.png', 'leuven1.png', 'wall1.png']\n",
    "\n",
    "grad_files = {}\n",
    "for file in files:\n",
    "    print(file.replace('.png', ':'))\n",
    "    # compute the x and y gradients\n",
    "    img = cv2.imread(directory + file, cv2.IMREAD_GRAYSCALE) # read the file in as a grayscale image\n",
    "    grad_x = cv2.Sobel(img, cv2.CV_64F, 1, 0, ksize=5)\n",
    "    grad_y = cv2.Sobel(img, cv2.CV_64F, 0, 1, ksize=5)\n",
    "    gradients = np.concatenate((grad_x.reshape(-1,1), grad_y.reshape(-1,1)),axis=1)\n",
    "    plt.figure()\n",
    "    theta, histw = gradient_histw(gradients, plot=True)\n",
    "    plt.title(file)\n",
    "    \n",
    "    grad_files[file] = {'bins': theta, 'hist': histw}\n",
    "    print('{bins, hist} dict added!')\n",
    "    print()\n",
    "# for\n",
    "print(grad_files.keys())"
   ]
  }
 ],
 "metadata": {
  "kernelspec": {
   "display_name": "Python 3",
   "language": "python",
   "name": "python3"
  },
  "language_info": {
   "codemirror_mode": {
    "name": "ipython",
    "version": 3
   },
   "file_extension": ".py",
   "mimetype": "text/x-python",
   "name": "python",
   "nbconvert_exporter": "python",
   "pygments_lexer": "ipython3",
   "version": "3.7.4"
  }
 },
 "nbformat": 4,
 "nbformat_minor": 4
}
