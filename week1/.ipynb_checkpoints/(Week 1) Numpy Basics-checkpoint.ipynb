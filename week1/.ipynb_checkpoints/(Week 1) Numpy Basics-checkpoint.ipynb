{
 "cells": [
  {
   "cell_type": "code",
   "execution_count": 1,
   "metadata": {
    "colab": {},
    "colab_type": "code",
    "id": "WeG6mrwNSW6w"
   },
   "outputs": [],
   "source": [
    "%matplotlib inline\n",
    "import matplotlib.pyplot as plt\n",
    "import numpy as np"
   ]
  },
  {
   "cell_type": "markdown",
   "metadata": {
    "colab_type": "text",
    "id": "Z0xVykeNrkue"
   },
   "source": [
    "### Read this First\n",
    "\n",
    "#### Remember that `tab` is is useful for autocompletion.\n",
    "\n",
    "#### Remember that `shift + tab` is useful for rapidly obtaining usage + documentation.\n"
   ]
  },
  {
   "cell_type": "markdown",
   "metadata": {
    "colab_type": "text",
    "id": "zURPVVsErkug"
   },
   "source": [
    "### Basic Shapes and Types in NumPy"
   ]
  },
  {
   "cell_type": "markdown",
   "metadata": {
    "colab_type": "text",
    "id": "uWWZ5TgUrkug"
   },
   "source": [
    "**Create a 1-D array of 5 zeros named `array_of_zeros`. Print it, verify that its shape is `[5]`, and print its `dtype`.**"
   ]
  },
  {
   "cell_type": "code",
   "execution_count": 2,
   "metadata": {
    "colab": {},
    "colab_type": "code",
    "id": "aM7fRX1vSLwo"
   },
   "outputs": [],
   "source": [
    "array_of_zeros = np.zeros(5)"
   ]
  },
  {
   "cell_type": "markdown",
   "metadata": {
    "colab_type": "text",
    "id": "0g9Y0ZPkrkuj"
   },
   "source": [
    "**Print the transpose of `array_of_zeros`.**"
   ]
  },
  {
   "cell_type": "code",
   "execution_count": 3,
   "metadata": {
    "colab": {},
    "colab_type": "code",
    "id": "dxmWaL7grkul",
    "outputId": "b9e2d6de-336e-433b-9dd6-f6bbfba51c9d"
   },
   "outputs": [
    {
     "data": {
      "text/plain": [
       "array([0., 0., 0., 0., 0.])"
      ]
     },
     "execution_count": 3,
     "metadata": {},
     "output_type": "execute_result"
    }
   ],
   "source": [
    "np.transpose(array_of_zeros)"
   ]
  },
  {
   "cell_type": "markdown",
   "metadata": {
    "colab_type": "text",
    "id": "ohPucNsqrkum"
   },
   "source": [
    "**In the following Markdown Cell, answer:**\n",
    "\n",
    "**Is its transpose what you expected? Why or why not?**"
   ]
  },
  {
   "cell_type": "markdown",
   "metadata": {
    "colab_type": "text",
    "id": "MM2R_F9Nrkun"
   },
   "source": [
    "No, It should be a column vector"
   ]
  },
  {
   "cell_type": "markdown",
   "metadata": {
    "colab_type": "text",
    "id": "vebIa0zKrkuo"
   },
   "source": [
    "**Create a 2-D array of 5 zeros, named `array_of_zeros`, with shape `[1, 5]`. Print it, and print its shape.**"
   ]
  },
  {
   "cell_type": "code",
   "execution_count": 4,
   "metadata": {
    "colab": {},
    "colab_type": "code",
    "id": "Qe6JkZhgSLmH"
   },
   "outputs": [],
   "source": [
    "array_of_zeros = np.zeros((1,5))"
   ]
  },
  {
   "cell_type": "markdown",
   "metadata": {
    "colab_type": "text",
    "id": "qsszc4-Krkus"
   },
   "source": [
    "**Print the transpose of `array_of_zeros`.**"
   ]
  },
  {
   "cell_type": "code",
   "execution_count": 5,
   "metadata": {
    "colab": {},
    "colab_type": "code",
    "id": "e4MI4IRarkut"
   },
   "outputs": [
    {
     "data": {
      "text/plain": [
       "array([[0.],\n",
       "       [0.],\n",
       "       [0.],\n",
       "       [0.],\n",
       "       [0.]])"
      ]
     },
     "execution_count": 5,
     "metadata": {},
     "output_type": "execute_result"
    }
   ],
   "source": [
    "array_of_zeros.T"
   ]
  },
  {
   "cell_type": "markdown",
   "metadata": {
    "colab_type": "text",
    "id": "vn495PUSrkuw"
   },
   "source": [
    "**In the following Markdown Cell, answer:**\n",
    "\n",
    "**Is its transpose what you expected? Why or why not?**"
   ]
  },
  {
   "cell_type": "markdown",
   "metadata": {
    "colab_type": "text",
    "id": "uegg6GGArkux"
   },
   "source": [
    "Yes."
   ]
  },
  {
   "cell_type": "markdown",
   "metadata": {
    "colab_type": "text",
    "id": "SIxnesb8rkux"
   },
   "source": [
    "**Create a 1-D array of 5 zeros, named `array_of_zeros`, with a `dtype` of `np.float`. Print it, and its `dtype`.**"
   ]
  },
  {
   "cell_type": "code",
   "execution_count": 6,
   "metadata": {
    "colab": {},
    "colab_type": "code",
    "id": "Za0uUeDbrku1"
   },
   "outputs": [
    {
     "data": {
      "text/plain": [
       "dtype('float64')"
      ]
     },
     "execution_count": 6,
     "metadata": {},
     "output_type": "execute_result"
    }
   ],
   "source": [
    "array_of_zeros = np.zeros(5, dtype=np.float)\n",
    "array_of_zeros.dtype"
   ]
  },
  {
   "cell_type": "markdown",
   "metadata": {
    "colab_type": "text",
    "id": "r9_0subQrku4"
   },
   "source": [
    "**In the following Markdown Cell, answer:**\n",
    "\n",
    "**Does this array contain floats with 32 bit precision or 64 bit precision?**"
   ]
  },
  {
   "cell_type": "markdown",
   "metadata": {},
   "source": [
    "64 bit float"
   ]
  },
  {
   "cell_type": "markdown",
   "metadata": {
    "colab_type": "text",
    "id": "OLqNDu0rrku5"
   },
   "source": [
    "**Create a 1-D array of 5 zeros, named `array_of_zeros`, with a `dtype` of `np.int`. Print it, and its `dtype`.**"
   ]
  },
  {
   "cell_type": "code",
   "execution_count": 7,
   "metadata": {
    "colab": {},
    "colab_type": "code",
    "id": "G5HGN-bbrku6"
   },
   "outputs": [
    {
     "data": {
      "text/plain": [
       "dtype('int32')"
      ]
     },
     "execution_count": 7,
     "metadata": {},
     "output_type": "execute_result"
    }
   ],
   "source": [
    "array_of_zeros = np.zeros(5, dtype=np.int)\n",
    "array_of_zeros.dtype"
   ]
  },
  {
   "cell_type": "markdown",
   "metadata": {
    "colab_type": "text",
    "id": "1cfcoR4lrku9"
   },
   "source": [
    "**In the following Markdown Cell, answer:**\n",
    "\n",
    "**Does this array contain 32-bit integers or 64-bit integers?**"
   ]
  },
  {
   "cell_type": "markdown",
   "metadata": {
    "colab_type": "text",
    "id": "KC2R20Vjrku_"
   },
   "source": [
    "32 bit integers"
   ]
  },
  {
   "cell_type": "markdown",
   "metadata": {
    "colab_type": "text",
    "id": "I5VdB_3wrkvB"
   },
   "source": [
    "When dealing with GPUs, we will often want to use 32 bit precision.\n",
    "\n",
    "**Create a 1-D array of 5 zeros, named `array_of_zeros`, with a `dtype` of `np.float32`. Print it, and its `dtype`.**"
   ]
  },
  {
   "cell_type": "code",
   "execution_count": 9,
   "metadata": {
    "colab": {},
    "colab_type": "code",
    "id": "TmPhH5rLrkvF"
   },
   "outputs": [
    {
     "data": {
      "text/plain": [
       "dtype('float32')"
      ]
     },
     "execution_count": 9,
     "metadata": {},
     "output_type": "execute_result"
    }
   ],
   "source": [
    "array_of_zeros = np.zeros(5, dtype=np.float32)\n",
    "array_of_zeros.dtype"
   ]
  },
  {
   "cell_type": "markdown",
   "metadata": {
    "colab_type": "text",
    "id": "VXzxLqGJrkvL"
   },
   "source": [
    "**Create a 1-D array of 5 zeros, named `array_of_zeros`, with a `dtype` of `np.float`, and then create `array_of_zeros_32` by casting `array_of_zeros`. Print it, and its `dtype`.**"
   ]
  },
  {
   "cell_type": "code",
   "execution_count": 10,
   "metadata": {
    "colab": {},
    "colab_type": "code",
    "id": "QchqNPNrrkvL"
   },
   "outputs": [
    {
     "data": {
      "text/plain": [
       "dtype('float32')"
      ]
     },
     "execution_count": 10,
     "metadata": {},
     "output_type": "execute_result"
    }
   ],
   "source": [
    "array_of_zeros = np.zeros(5, dtype=np.float)\n",
    "array_of_zeros_32 = array_of_zeros.astype(np.float32)\n",
    "array_of_zeros_32.dtype"
   ]
  },
  {
   "cell_type": "markdown",
   "metadata": {
    "colab_type": "text",
    "id": "OxeBB5Q2rkvP"
   },
   "source": [
    "### `np.arange`, Element-Wise Operations, and Reshaping"
   ]
  },
  {
   "cell_type": "markdown",
   "metadata": {
    "colab_type": "text",
    "id": "AruqMurYrkvR"
   },
   "source": [
    "**Create `x1` to be a 1-D array of floats containing `[0, 1, 2, 3, 4]`, but do not type these values explicitly; instead, use `np.arange`. Also create `x2` in the exact same way. Print `x1`, `x2`, and `x1`'s `dtype`. Be sure `x1` and `x2` store floats, not ints.**"
   ]
  },
  {
   "cell_type": "code",
   "execution_count": 15,
   "metadata": {
    "colab": {},
    "colab_type": "code",
    "id": "88utEXrqT9dL"
   },
   "outputs": [
    {
     "name": "stdout",
     "output_type": "stream",
     "text": [
      "[0. 1. 2. 3. 4.]\n",
      "[0. 1. 2. 3. 4.]\n"
     ]
    }
   ],
   "source": [
    "x1 = np.arange(5, dtype=float)\n",
    "x2 = x1.copy()\n",
    "print(x1)\n",
    "print(x2)"
   ]
  },
  {
   "cell_type": "markdown",
   "metadata": {
    "colab_type": "text",
    "id": "FrXS0vpqrkvW"
   },
   "source": [
    "**Create `y` via `y = x1 + x2`. Print `y` and its `dtype`.**"
   ]
  },
  {
   "cell_type": "code",
   "execution_count": 16,
   "metadata": {
    "colab": {},
    "colab_type": "code",
    "id": "fj2ZQ8ebrkvW"
   },
   "outputs": [
    {
     "name": "stdout",
     "output_type": "stream",
     "text": [
      "[0. 2. 4. 6. 8.] float64\n"
     ]
    }
   ],
   "source": [
    "y = x1 + x2\n",
    "print(y, y.dtype)"
   ]
  },
  {
   "cell_type": "markdown",
   "metadata": {
    "colab_type": "text",
    "id": "Ryf58C_zrkvZ"
   },
   "source": [
    "**Reshape `x1` to have shape `[1, 5]` and `x2` to have shape `[5, 1]`. Print their shapes.**"
   ]
  },
  {
   "cell_type": "code",
   "execution_count": 17,
   "metadata": {
    "colab": {},
    "colab_type": "code",
    "id": "zNyqD-p8UjTd"
   },
   "outputs": [
    {
     "name": "stdout",
     "output_type": "stream",
     "text": [
      "(1, 5) (5, 1)\n"
     ]
    }
   ],
   "source": [
    "x1 = x1.reshape((1,5))\n",
    "x2 = x2.reshape((5,1))\n",
    "print(x1.shape, x2.shape)"
   ]
  },
  {
   "cell_type": "markdown",
   "metadata": {
    "colab_type": "text",
    "id": "9VcUU0eSrkvc"
   },
   "source": [
    "**Form `y` via `y = x1 + x2`. Print `y`.**"
   ]
  },
  {
   "cell_type": "code",
   "execution_count": 18,
   "metadata": {
    "colab": {},
    "colab_type": "code",
    "id": "m9dlKPmjUozM"
   },
   "outputs": [
    {
     "name": "stdout",
     "output_type": "stream",
     "text": [
      "[[0. 1. 2. 3. 4.]\n",
      " [1. 2. 3. 4. 5.]\n",
      " [2. 3. 4. 5. 6.]\n",
      " [3. 4. 5. 6. 7.]\n",
      " [4. 5. 6. 7. 8.]]\n"
     ]
    }
   ],
   "source": [
    "y = x1 + x2\n",
    "print(y)"
   ]
  },
  {
   "cell_type": "markdown",
   "metadata": {
    "colab_type": "text",
    "id": "29wzZXR8rkve"
   },
   "source": [
    "**In the following Markdown Cell, answer:**\n",
    "\n",
    "**Is this what you expected? (For now, just a 'Yes' or 'No' is fine; we will revisit this result later.)**"
   ]
  },
  {
   "cell_type": "markdown",
   "metadata": {
    "colab_type": "text",
    "id": "7XQq7FQVrkvf"
   },
   "source": [
    "Yes, the sum will cast the each of the shapes into a 2-D array for addition, if of the same size."
   ]
  },
  {
   "cell_type": "markdown",
   "metadata": {
    "colab_type": "text",
    "id": "D0rCBl9Trkvf"
   },
   "source": [
    "**Create a 1-D array x containing integers 0, 1, ..., 8 using `np.arange`. Print it, and its `dtype`.**"
   ]
  },
  {
   "cell_type": "code",
   "execution_count": 19,
   "metadata": {
    "colab": {},
    "colab_type": "code",
    "id": "E7txqslbVukC"
   },
   "outputs": [
    {
     "name": "stdout",
     "output_type": "stream",
     "text": [
      "int32\n"
     ]
    }
   ],
   "source": [
    "x = np.arange(9)\n",
    "print(x.dtype)"
   ]
  },
  {
   "cell_type": "markdown",
   "metadata": {
    "colab_type": "text",
    "id": "uJjMqcFFrkvl"
   },
   "source": [
    "**Create `X` by reshaping `x` to have shape `[3, 3]`. Print `X`.**"
   ]
  },
  {
   "cell_type": "code",
   "execution_count": 20,
   "metadata": {
    "colab": {},
    "colab_type": "code",
    "id": "Z3HL6gtyVxYB"
   },
   "outputs": [
    {
     "name": "stdout",
     "output_type": "stream",
     "text": [
      "[[0 1 2]\n",
      " [3 4 5]\n",
      " [6 7 8]]\n"
     ]
    }
   ],
   "source": [
    "X = x.reshape((3,3))\n",
    "print(X)"
   ]
  },
  {
   "cell_type": "markdown",
   "metadata": {
    "colab_type": "text",
    "id": "l7lkXba9equh"
   },
   "source": [
    "NumPy arrays are typically contiguous strips of memory, with the shape specifying how we view that memory. For example, if the shape of the strip of memory `[0, 1, 2, 3]` is `[2, 2]`, then we view it as a 2 x 2 matrix.\n"
   ]
  },
  {
   "cell_type": "markdown",
   "metadata": {
    "colab_type": "text",
    "id": "I3OsvgE1gXM7"
   },
   "source": [
    "**In the following Markdown Cell, answer:**\n",
    "\n",
    "\n",
    "**Given your previous `reshape` result, and the fact that `reshape` only changes our view of a contiguous strip of memory, do *rows* have elements that are mutually closer in memory, or do *columns* have elements that are mutually closer in memory?**"
   ]
  },
  {
   "cell_type": "markdown",
   "metadata": {
    "colab_type": "text",
    "id": "PHUt3CVRgKfw"
   },
   "source": [
    "Rows are the closer elements I believe. "
   ]
  },
  {
   "cell_type": "markdown",
   "metadata": {
    "colab_type": "text",
    "id": "CiDY8XWUrkwc"
   },
   "source": [
    "### Element-Wise Multiplication vs. Matrix Multiplication"
   ]
  },
  {
   "cell_type": "markdown",
   "metadata": {
    "colab_type": "text",
    "id": "JWjeSndRrkwc"
   },
   "source": [
    "**Create `A` and `B`, each 2-D matrices of ones with shape `[3, 3]`.**"
   ]
  },
  {
   "cell_type": "code",
   "execution_count": 21,
   "metadata": {
    "colab": {},
    "colab_type": "code",
    "id": "oBTegRogi5Ii"
   },
   "outputs": [],
   "source": [
    "A = np.ones((3,3))\n",
    "B = A.copy()"
   ]
  },
  {
   "cell_type": "markdown",
   "metadata": {
    "colab_type": "text",
    "id": "AsbpmRNwrkwe"
   },
   "source": [
    "**Form `C_star` via `C_star = A * B`, and print `C_star`.**"
   ]
  },
  {
   "cell_type": "code",
   "execution_count": 22,
   "metadata": {
    "colab": {},
    "colab_type": "code",
    "id": "Bjfa79cFjA1y"
   },
   "outputs": [
    {
     "name": "stdout",
     "output_type": "stream",
     "text": [
      "[[1. 1. 1.]\n",
      " [1. 1. 1.]\n",
      " [1. 1. 1.]]\n"
     ]
    }
   ],
   "source": [
    "C_star = A*B\n",
    "print(C_star)"
   ]
  },
  {
   "cell_type": "markdown",
   "metadata": {
    "colab_type": "text",
    "id": "zPKfw5rDrkwg"
   },
   "source": [
    "**Form `C_at` via `C_at = A @ B`, and print `C_at`.**"
   ]
  },
  {
   "cell_type": "code",
   "execution_count": 25,
   "metadata": {
    "colab": {},
    "colab_type": "code",
    "id": "jFTC1sAhjEvm"
   },
   "outputs": [
    {
     "name": "stdout",
     "output_type": "stream",
     "text": [
      "[[3. 3. 3.]\n",
      " [3. 3. 3.]\n",
      " [3. 3. 3.]]\n"
     ]
    }
   ],
   "source": [
    "C_at = A@B\n",
    "print(C_at)"
   ]
  },
  {
   "cell_type": "markdown",
   "metadata": {
    "colab_type": "text",
    "id": "CcUUvfGpjHJS"
   },
   "source": [
    "**In the following Markdown Cell, answer:**\n",
    "\n",
    "**What operation does `*` perform? What operation does `@` perform?**"
   ]
  },
  {
   "cell_type": "markdown",
   "metadata": {
    "colab_type": "text",
    "id": "U-AIC_ttjSW1"
   },
   "source": [
    "`*` does element-wise multiplicaiton and `@` does matrix multiplication"
   ]
  },
  {
   "cell_type": "markdown",
   "metadata": {
    "colab_type": "text",
    "id": "_KUflx1prkwk"
   },
   "source": [
    "### Broadcasting"
   ]
  },
  {
   "cell_type": "markdown",
   "metadata": {
    "colab_type": "text",
    "id": "HykGB66dM7MO"
   },
   "source": [
    "Suppose you have some data collected in a 1-D array, which is not 'normalized' in the sense that it has a mean that's far from 0 and a standard deviation that's far from 1:"
   ]
  },
  {
   "cell_type": "code",
   "execution_count": 26,
   "metadata": {
    "colab": {
     "base_uri": "https://localhost:8080/",
     "height": 51
    },
    "colab_type": "code",
    "executionInfo": {
     "elapsed": 257,
     "status": "ok",
     "timestamp": 1518471309744,
     "user": {
      "displayName": "Robert DiPietro",
      "photoUrl": "//lh3.googleusercontent.com/-eOJoGaFo1WU/AAAAAAAAAAI/AAAAAAAAOpo/6bhyWUlmkGc/s50-c-k-no/photo.jpg",
      "userId": "114012429576863573360"
     },
     "user_tz": 300
    },
    "id": "Gxqlr64OMc_v",
    "outputId": "a25a687e-142a-424a-c741-a1a6f9666806"
   },
   "outputs": [
    {
     "name": "stdout",
     "output_type": "stream",
     "text": [
      "2.8\n",
      "1.7227884373886422\n"
     ]
    }
   ],
   "source": [
    "x = np.array([3.2, 1.1, 1.2, 5.3, 3.9, 1.9, 2.0, 6.2, 1.0, 2.2])\n",
    "print(x.mean())\n",
    "print(x.std())"
   ]
  },
  {
   "cell_type": "markdown",
   "metadata": {
    "colab_type": "text",
    "id": "p3vPH5ykNFKs"
   },
   "source": [
    "**Form `z` by normalizing `x`. That is, each entry in `z` should be the *standardized score* of the corresponding entry in `x`: $z_i = (x_i - \\mu) / \\sigma$. Print `z` and verify that its mean is close to 0.0 and that its standard deviation is close to 1.0.**"
   ]
  },
  {
   "cell_type": "code",
   "execution_count": 32,
   "metadata": {
    "colab": {},
    "colab_type": "code",
    "id": "2UbG0gTrMmio"
   },
   "outputs": [
    {
     "name": "stdout",
     "output_type": "stream",
     "text": [
      "[ 0.23218173 -0.98677235 -0.92872692  1.45113581  0.63849976 -0.52240889\n",
      " -0.46436346  1.97354471 -1.04481779 -0.3482726 ]\n",
      "9.992007221626409e-17 1.0000000000000002\n"
     ]
    }
   ],
   "source": [
    "z = (x - x.mean())/x.std()\n",
    "print(z)\n",
    "print(z.mean(), z.std())"
   ]
  },
  {
   "cell_type": "markdown",
   "metadata": {
    "colab_type": "text",
    "id": "m2hreOdTNc9q"
   },
   "source": [
    "Now suppose that you have 5 3-dimensional feature vectors collected in an array, and that none of the features are normalized, in that each feature has a mean that's far from 0 and a standard deviation that's far from 1:"
   ]
  },
  {
   "cell_type": "code",
   "execution_count": 30,
   "metadata": {
    "colab": {
     "base_uri": "https://localhost:8080/",
     "height": 51
    },
    "colab_type": "code",
    "executionInfo": {
     "elapsed": 282,
     "status": "ok",
     "timestamp": 1518471311105,
     "user": {
      "displayName": "Robert DiPietro",
      "photoUrl": "//lh3.googleusercontent.com/-eOJoGaFo1WU/AAAAAAAAAAI/AAAAAAAAOpo/6bhyWUlmkGc/s50-c-k-no/photo.jpg",
      "userId": "114012429576863573360"
     },
     "user_tz": 300
    },
    "id": "C6wrb0_RM3ux",
    "outputId": "6d8c4def-e5be-4986-cda9-8a45365f541c"
   },
   "outputs": [
    {
     "name": "stdout",
     "output_type": "stream",
     "text": [
      "[ 3.76 -0.36  1.08]\n",
      "[2.73027471 0.71442284 1.26396202]\n"
     ]
    }
   ],
   "source": [
    "data = np.array([[7.5, -1.1,  1.6],\n",
    "                 [0.1,  0.9, -0.7],\n",
    "                 [6.3, -0.9,  3.1],\n",
    "                 [2.5, -0.6,  0.4],\n",
    "                 [2.4, -0.1,  1.0]])\n",
    "print(data.mean(axis=0))\n",
    "print(data.std(axis=0))"
   ]
  },
  {
   "cell_type": "markdown",
   "metadata": {
    "colab_type": "text",
    "id": "MWwO_567Of7g"
   },
   "source": [
    "**Write code to normalize this data on a feature-wise basis, so that each feature has mean 0 and standard deviation 1, and store the result in `normalized_data`. Print `normalized_data` along with its per-feature mean and its per-feature standard deviation.**"
   ]
  },
  {
   "cell_type": "code",
   "execution_count": 31,
   "metadata": {
    "colab": {},
    "colab_type": "code",
    "id": "8cNQjOwjPUoY"
   },
   "outputs": [
    {
     "name": "stdout",
     "output_type": "stream",
     "text": [
      "[[ 1.36982553 -1.03580115  0.41140477]\n",
      " [-1.34052445  1.76366141 -1.40827016]\n",
      " [ 0.93030932 -0.75585489  1.59814928]\n",
      " [-0.46149202 -0.33593551 -0.53799085]\n",
      " [-0.49811837  0.36393013 -0.06329304]]\n",
      "[ 1.88737914e-16  1.11022302e-17 -5.55111512e-18] [1. 1. 1.]\n"
     ]
    }
   ],
   "source": [
    "normalized_data = (data - data.mean(axis=0))/data.std(axis=0)\n",
    "print(normalized_data)\n",
    "print(normalized_data.mean(axis=0), normalized_data.std(axis=0))"
   ]
  },
  {
   "cell_type": "markdown",
   "metadata": {
    "colab_type": "text",
    "id": "LUcbZFt7PWbw"
   },
   "source": [
    "Now suppose that you have 3 3-D vectors that each represent *unnormalized class scores*. That is, each 3-D vector represents the scores for three different classes in a classification problem. (For example, these could be the outputs of an image-classification model, with each row corresponding to a particular image and each column corresponding to a particular class, such as 'dog', 'cat', or 'other'.)\n",
    "\n",
    "If each row represented a valid probability distribution, then their elements would sum do 1, but they currently do not:"
   ]
  },
  {
   "cell_type": "code",
   "execution_count": 44,
   "metadata": {
    "colab": {
     "base_uri": "https://localhost:8080/",
     "height": 85
    },
    "colab_type": "code",
    "executionInfo": {
     "elapsed": 296,
     "status": "ok",
     "timestamp": 1518471313254,
     "user": {
      "displayName": "Robert DiPietro",
      "photoUrl": "//lh3.googleusercontent.com/-eOJoGaFo1WU/AAAAAAAAAAI/AAAAAAAAOpo/6bhyWUlmkGc/s50-c-k-no/photo.jpg",
      "userId": "114012429576863573360"
     },
     "user_tz": 300
    },
    "id": "o-565kjQQoWo",
    "outputId": "e410a0a0-c43b-4b86-f23a-3142ecedb763"
   },
   "outputs": [
    {
     "name": "stdout",
     "output_type": "stream",
     "text": [
      "[[8.2 6.7 6.3]\n",
      " [9.5 0.2 9.3]\n",
      " [3.6 2.7 9. ]]\n",
      "[21.2 19.  15.3]\n",
      "[[21.2]\n",
      " [19. ]\n",
      " [15.3]]\n"
     ]
    }
   ],
   "source": [
    "scores = np.array([[8.2, 6.7, 6.3],\n",
    "                   [9.5, 0.2, 9.3],\n",
    "                   [3.6, 2.7, 9.0]])\n",
    "print(scores)\n",
    "print(scores.sum(axis=1))\n",
    "print(scores.sum(axis=1, keepdims=True))"
   ]
  },
  {
   "cell_type": "markdown",
   "metadata": {
    "colab_type": "text",
    "id": "-8Zeiqb5Rblr"
   },
   "source": [
    "**Write code to compute and print the array `probabilities` by dividing each row of `scores` by its sum. Print `probabilities` and the sum of each of its rows, to verify that each row sums to 1.** Hint: If the rows do not sum to 1, then think about broadcasting and take a look at the `keepdims` keyword argument of NumPy's `sum` function."
   ]
  },
  {
   "cell_type": "code",
   "execution_count": 43,
   "metadata": {
    "colab": {},
    "colab_type": "code",
    "id": "m2mF2tPHSWEn"
   },
   "outputs": [
    {
     "name": "stdout",
     "output_type": "stream",
     "text": [
      "[[0.38679245 0.31603774 0.29716981]\n",
      " [0.5        0.01052632 0.48947368]\n",
      " [0.23529412 0.17647059 0.58823529]]\n",
      "[1. 1. 1.]\n"
     ]
    }
   ],
   "source": [
    "probabilities = scores/scores.sum(axis=1, keepdims = True)\n",
    "print(probabilities)\n",
    "print(probabilities.sum(axis=1))"
   ]
  },
  {
   "cell_type": "markdown",
   "metadata": {
    "colab_type": "text",
    "id": "RSIJR_Awrkw7"
   },
   "source": [
    "**Complete the `tril_` function below by inserting only 2 lines of code at the bottom of the function.** Hint: Form a mask using broadcasting, and use the mask to modify `X` in place."
   ]
  },
  {
   "cell_type": "code",
   "execution_count": 64,
   "metadata": {
    "colab": {},
    "colab_type": "code",
    "id": "GFRy7e-egzBu"
   },
   "outputs": [],
   "source": [
    "def tril_(X):\n",
    "    \"\"\"Modify X in place to become lower triangular.\n",
    "\n",
    "    Args:\n",
    "        X: A 2-D NumPy array with shape [M, N].\n",
    "    \"\"\"\n",
    "    if X.ndim != 2:\n",
    "        raise ValueError('X must be a 2-D array.')\n",
    "    M, N = X.shape\n",
    "    i = np.arange(M).reshape(1, M)\n",
    "    j = np.arange(N).reshape(N, 1)\n",
    "    \n",
    "    # TODO: Replace with valid code.\n",
    "    mask = ( i > j )\n",
    "    X[mask] = 0\n",
    "    \n",
    "    return X"
   ]
  },
  {
   "cell_type": "markdown",
   "metadata": {
    "colab_type": "text",
    "id": "wcnYgEjxrkw9"
   },
   "source": [
    "**Create a random matrix `X` with shape `[3, 3]` using `np.random.rand`, run `tril_(X)`, and verify that `X` is now lower triangular.**"
   ]
  },
  {
   "cell_type": "code",
   "execution_count": 65,
   "metadata": {
    "colab": {},
    "colab_type": "code",
    "id": "vjR5-HLsiV_G"
   },
   "outputs": [
    {
     "name": "stdout",
     "output_type": "stream",
     "text": [
      "[[0.12358229 0.83609671 0.90517905]\n",
      " [0.79274687 0.43362603 0.44333386]\n",
      " [0.75156546 0.89112275 0.64627022]]\n",
      "[[0.12358229 0.         0.        ]\n",
      " [0.79274687 0.43362603 0.        ]\n",
      " [0.75156546 0.89112275 0.64627022]]\n"
     ]
    }
   ],
   "source": [
    "X = np.random.rand(3,3)\n",
    "print(X)\n",
    "print(tril_(X))"
   ]
  },
  {
   "cell_type": "markdown",
   "metadata": {
    "colab_type": "text",
    "id": "7xipO9-lrkxB"
   },
   "source": [
    "**Create a random matrix `X` with shape `[5, 5]` using `np.random.rand`, run `tril_(X)`, and verify that `X` is now lower triangular.**"
   ]
  },
  {
   "cell_type": "code",
   "execution_count": 66,
   "metadata": {
    "colab": {},
    "colab_type": "code",
    "id": "nX8Q8o3TrkxD"
   },
   "outputs": [
    {
     "name": "stdout",
     "output_type": "stream",
     "text": [
      "[[0.25680576 0.03052056 0.50521654 0.04487322 0.67243034]\n",
      " [0.49423163 0.61727365 0.28285345 0.33325502 0.29732116]\n",
      " [0.53592849 0.59087307 0.80458581 0.48271425 0.05404434]\n",
      " [0.48428848 0.17784018 0.11214139 0.99407999 0.10373675]\n",
      " [0.43475851 0.27107314 0.37637137 0.65085491 0.7265592 ]]\n",
      "[[0.25680576 0.         0.         0.         0.        ]\n",
      " [0.49423163 0.61727365 0.         0.         0.        ]\n",
      " [0.53592849 0.59087307 0.80458581 0.         0.        ]\n",
      " [0.48428848 0.17784018 0.11214139 0.99407999 0.        ]\n",
      " [0.43475851 0.27107314 0.37637137 0.65085491 0.7265592 ]]\n"
     ]
    }
   ],
   "source": [
    "X = np.random.rand(5,5)\n",
    "print(X)\n",
    "print(tril_(X))"
   ]
  },
  {
   "cell_type": "markdown",
   "metadata": {
    "colab_type": "text",
    "id": "GPtxxYs4Lhva"
   },
   "source": [
    "### Booleans vs. Masks"
   ]
  },
  {
   "cell_type": "markdown",
   "metadata": {
    "colab_type": "text",
    "id": "0J7DU76krkxF"
   },
   "source": [
    "**Create `x` using `x = np.array([1, 2, 3])`, and create `y` using `y = x`.**"
   ]
  },
  {
   "cell_type": "code",
   "execution_count": 68,
   "metadata": {
    "colab": {},
    "colab_type": "code",
    "id": "AU2Sk5ybrkxF"
   },
   "outputs": [],
   "source": [
    "x = np.array([1,2,3])\n",
    "y = x"
   ]
  },
  {
   "cell_type": "markdown",
   "metadata": {
    "colab_type": "text",
    "id": "Kc2ZypEirkxH"
   },
   "source": [
    "**Print the expression `x == y`.**"
   ]
  },
  {
   "cell_type": "code",
   "execution_count": 69,
   "metadata": {
    "colab": {},
    "colab_type": "code",
    "id": "0amFlnYprkxI"
   },
   "outputs": [
    {
     "data": {
      "text/plain": [
       "array([ True,  True,  True])"
      ]
     },
     "execution_count": 69,
     "metadata": {},
     "output_type": "execute_result"
    }
   ],
   "source": [
    "x == y"
   ]
  },
  {
   "cell_type": "markdown",
   "metadata": {
    "colab_type": "text",
    "id": "2BfBVMHNrkxL"
   },
   "source": [
    "**Use `np.all` to test whether *all* elements of `x` are equal to their corresponding elements in `y`. You should print the result, which should be a single boolean, `True` or `False`.**"
   ]
  },
  {
   "cell_type": "code",
   "execution_count": 70,
   "metadata": {
    "colab": {},
    "colab_type": "code",
    "id": "HLqgLdTLVyYV"
   },
   "outputs": [
    {
     "data": {
      "text/plain": [
       "True"
      ]
     },
     "execution_count": 70,
     "metadata": {},
     "output_type": "execute_result"
    }
   ],
   "source": [
    "np.all(x == y)"
   ]
  },
  {
   "cell_type": "markdown",
   "metadata": {
    "colab_type": "text",
    "id": "OPO5Th1nrkxP"
   },
   "source": [
    "**Modify the 0-th element of `y` via `y[0] = 5`, and again use `np.all` to test whether all elements of `x` are equal to their corresponding elements in `y`, and again print the result.**"
   ]
  },
  {
   "cell_type": "code",
   "execution_count": 71,
   "metadata": {
    "colab": {},
    "colab_type": "code",
    "id": "xP1X-3COV-q_"
   },
   "outputs": [
    {
     "data": {
      "text/plain": [
       "True"
      ]
     },
     "execution_count": 71,
     "metadata": {},
     "output_type": "execute_result"
    }
   ],
   "source": [
    "y[0] = 5\n",
    "np.all(x == y)"
   ]
  },
  {
   "cell_type": "markdown",
   "metadata": {
    "colab_type": "text",
    "id": "7-9o-m4krkxR"
   },
   "source": [
    "**In the Markdown Cell below, answer:**\n",
    "\n",
    "**Is the last result what you expected? Explain what is happening here.**"
   ]
  },
  {
   "cell_type": "markdown",
   "metadata": {
    "colab_type": "text",
    "id": "CNlnclwdrkxT"
   },
   "source": [
    "Yes, because y becomes a reference for x"
   ]
  },
  {
   "cell_type": "markdown",
   "metadata": {
    "colab_type": "text",
    "id": "jlPGb910rkxT"
   },
   "source": [
    "**Create `x = np.array([1, 2, 3])` and `y = np.array([2, 2, 2])`. Again use `np.all` to test whether all elements of `x` are equal to their corresponding elements in `y`, and again print the result.**"
   ]
  },
  {
   "cell_type": "code",
   "execution_count": 72,
   "metadata": {
    "colab": {},
    "colab_type": "code",
    "id": "w1vkvXD1WMr6"
   },
   "outputs": [
    {
     "data": {
      "text/plain": [
       "False"
      ]
     },
     "execution_count": 72,
     "metadata": {},
     "output_type": "execute_result"
    }
   ],
   "source": [
    "x = np.array([1,2,3])\n",
    "y = np.array([2,2,2])\n",
    "np.all(x == y)"
   ]
  },
  {
   "cell_type": "markdown",
   "metadata": {
    "colab_type": "text",
    "id": "cp7YqS_srkxW"
   },
   "source": [
    "**Use `np.any` to test whether *any* elements of `x` are equal to their corresponding elements in `y`, and again print the result.**"
   ]
  },
  {
   "cell_type": "code",
   "execution_count": 73,
   "metadata": {
    "colab": {},
    "colab_type": "code",
    "id": "UNC1sUXqWQ24"
   },
   "outputs": [
    {
     "data": {
      "text/plain": [
       "True"
      ]
     },
     "execution_count": 73,
     "metadata": {},
     "output_type": "execute_result"
    }
   ],
   "source": [
    "np.any( x == y)"
   ]
  }
 ],
 "metadata": {
  "celltoolbar": "Raw Cell Format",
  "colab": {
   "collapsed_sections": [],
   "name": "(Week 1) Numpy Basics.ipynb",
   "provenance": [
    {
     "file_id": "1qZdPZ-RRjqXbOVFJNjB9QEOlXP21B8Fr",
     "timestamp": 1596677548693
    }
   ]
  },
  "kernelspec": {
   "display_name": "Python 3",
   "language": "python",
   "name": "python3"
  },
  "language_info": {
   "codemirror_mode": {
    "name": "ipython",
    "version": 3
   },
   "file_extension": ".py",
   "mimetype": "text/x-python",
   "name": "python",
   "nbconvert_exporter": "python",
   "pygments_lexer": "ipython3",
   "version": "3.7.4"
  }
 },
 "nbformat": 4,
 "nbformat_minor": 4
}
