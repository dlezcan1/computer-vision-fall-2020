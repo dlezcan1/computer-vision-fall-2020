{
 "cells": [
  {
   "cell_type": "code",
   "execution_count": 1,
   "metadata": {
    "id": "Hwc3WeIW1UyN"
   },
   "outputs": [],
   "source": [
    "%matplotlib inline\n",
    "import matplotlib.pyplot as plt\n",
    "import numpy as np\n",
    "import cv2\n",
    "import pickle\n",
    "\n",
    "# to store your answers\n",
    "answers = {}"
   ]
  },
  {
   "cell_type": "markdown",
   "metadata": {
    "id": "rxjht_qo460_"
   },
   "source": [
    "### Read this First\n",
    "\n",
    "#### We have provided a cell for each of the short and long questions. In some cases the cell also defines useful values. Please do not add additional cells. \n",
    "\n",
    "#### We've given an example of what we'd like to see in the first two cells as an example. Please print your answers from the computational cell to appear after it.  If there are two elements, print both one after the other.\n",
    "\n",
    "### What to hand in\n",
    "#### CV-2020-Midterm-Exam-A.ipynb and answers.pkl(it will be automatically generated as you finish everything and run till the end)\n"
   ]
  },
  {
   "cell_type": "markdown",
   "metadata": {
    "id": "kYpic3oTTRqk"
   },
   "source": [
    "### Some functions you might find useful\n"
   ]
  },
  {
   "cell_type": "code",
   "execution_count": 2,
   "metadata": {
    "id": "9A5mJXRJTRql"
   },
   "outputs": [],
   "source": [
    "def sk(v) :\n",
    "  \"\"\" Computes the skew-symmetric matrix given a vector v\n",
    "      Args:\n",
    "        v: Vector containing 3 values [v0, v1, v2]\n",
    "      Return:\n",
    "        sk: Skew symmetric matrix form of vector v\n",
    "            [0,  -v2,  v1]\n",
    "            [v2,   0, -v0]\n",
    "            [-v1, v0,   0]\n",
    "  \"\"\"\n",
    "  return np.array([[0,-v[2],v[1]],[v[2],0,-v[0]],[-v[1],v[0],0]])"
   ]
  },
  {
   "cell_type": "markdown",
   "metadata": {
    "id": "r9NBHUeATRqp"
   },
   "source": [
    "### Example Question and Answer"
   ]
  },
  {
   "cell_type": "markdown",
   "metadata": {
    "id": "6fZRxeg85DRP"
   },
   "source": [
    "**Q1: What is the product of the matrix H and vector x in the cell below?**"
   ]
  },
  {
   "cell_type": "code",
   "execution_count": 3,
   "metadata": {
    "colab": {
     "base_uri": "https://localhost:8080/"
    },
    "id": "NGf9Aw2m6IgR",
    "outputId": "e281948a-638e-4d7f-b585-40a4cbfddec4"
   },
   "outputs": [
    {
     "name": "stdout",
     "output_type": "stream",
     "text": [
      "[3. 3. 3.]\n"
     ]
    }
   ],
   "source": [
    "H = np.ones((3,3))\n",
    "x = np.array([1,1,1])\n",
    "print(H@x)"
   ]
  },
  {
   "cell_type": "markdown",
   "metadata": {
    "id": "9mYFeUJTTRqw"
   },
   "source": [
    "## Short Questions (4 pts each, 20 pts total)"
   ]
  },
  {
   "cell_type": "markdown",
   "metadata": {
    "id": "811yQPLb6u5N"
   },
   "source": [
    "**1. Given the homography [1,2,3;4,5,6;7,8,9], what is the projection of the point [1,2]. Please print the resulting 2d coordinate vector from the projective coordinates.**\n"
   ]
  },
  {
   "cell_type": "code",
   "execution_count": 4,
   "metadata": {
    "id": "9MtQv0_z46TR"
   },
   "outputs": [
    {
     "name": "stdout",
     "output_type": "stream",
     "text": [
      "[0.25  0.625]\n"
     ]
    }
   ],
   "source": [
    "H = np.array([[1,2,3],[4,5,6],[7,8,9]])\n",
    "p = np.array([1,2])\n",
    "\n",
    "#TODO: compute pp, which should be a numpy array of shape(2,). Please do not change the shape of answer, otherwise it will be autograded as incorrect\n",
    "pp = np.zeros((2,))\n",
    "pph = H @ np.append(p, 1)\n",
    "pp[:] = pph[0:2]/pph[-1]\n",
    "print(pp)\n",
    "\n",
    "# store the answer. Do not modify this\n",
    "answers['short1'] = pp # worth 4 points"
   ]
  },
  {
   "cell_type": "markdown",
   "metadata": {
    "id": "TVwB0WHr8PnM"
   },
   "source": [
    "**2. Given the convolution kernel S = [0,0,1,2,4,8,4,2,1,0,0] and the derivative kernel  D = [1,-1], compute\n",
    "(1) the single kernel that combines smoothing by S and computing the derivative as a single kernel.\n",
    "(2) the single kernel that combines smoothing by S and computing the second derivative as a single kernel.**"
   ]
  },
  {
   "cell_type": "code",
   "execution_count": 5,
   "metadata": {
    "id": "B3fWlSp683gm"
   },
   "outputs": [
    {
     "name": "stdout",
     "output_type": "stream",
     "text": [
      "[ 1  1  2  4 -4 -2 -1]\n",
      "[ 0  1  2 -8  2  1  0]\n"
     ]
    }
   ],
   "source": [
    "S = np.array([ 1, 2, 4, 8, 4, 2, 1])\n",
    "D = np.array([1,-1])\n",
    "D2 = np.convolve(D, D, mode='full')\n",
    "\n",
    "#TODO: compute S1 and S2, i.e. the kernels in (1) and (2)\n",
    "S1 = np.zeros((8,))\n",
    "S2 = np.zeros((9,))\n",
    "\n",
    "S1 = np.convolve(D, S, mode='same')\n",
    "S2 = np.convolve(D2, S, mode='same')\n",
    "print(S1)\n",
    "print(S2)\n",
    "\n",
    "# store the answer. Do not modify this\n",
    "answers['short2'] = {}\n",
    "answers['short2']['S1'] = S1 # worth 2 points\n",
    "answers['short2']['S2'] = S2 # worth 2 points"
   ]
  },
  {
   "cell_type": "markdown",
   "metadata": {
    "id": "eCJlyB1193UG"
   },
   "source": [
    "**3.Find the harris corner response given the gradient values in the variable SQ3 using a k value of 0.05. Round to the nearest 100 (use round(X,-2))**"
   ]
  },
  {
   "cell_type": "code",
   "execution_count": 6,
   "metadata": {
    "id": "_7Pefq8L921l"
   },
   "outputs": [
    {
     "name": "stdout",
     "output_type": "stream",
     "text": [
      "2300.0\n"
     ]
    }
   ],
   "source": [
    "SQ3 = np.array([[1,2],[2,3],[1,3],[-5, 4],[2, 3],[4, -4],[-1,-1]])\n",
    "\n",
    "#TODO: compute edgeresponse\n",
    "edgeresponse = 0.0\n",
    "k = 0.05\n",
    "\n",
    "# find the H matrix\n",
    "grad_x2 = np.sum(SQ3[:,0]**2)\n",
    "grad_xy = np.sum(SQ3[:,0] * SQ3[:,1])\n",
    "grad_y2 = np.sum(SQ3[:,1]**2)\n",
    "H = np.array([[grad_x2, grad_xy], [grad_xy, grad_y2]])\n",
    "\n",
    "# eigenvalues and compute the response\n",
    "eigs = np.linalg.eigvals(H)\n",
    "edgeresponse = eigs[0]*eigs[1] - k*(eigs[0] + eigs[1])**2\n",
    "\n",
    "print(round(edgeresponse, -2))\n",
    "\n",
    "# store the answer. Do not modify this\n",
    "answers['short3'] = round(edgeresponse,-2) # worth 4 points"
   ]
  },
  {
   "cell_type": "markdown",
   "metadata": {
    "id": "HNK3Xnhl_Y8H"
   },
   "source": [
    "**4. Compute the F matrix from the values given below and then compute the coefficients of the epipolar line in the left image for the point [3, 4] in the right image**\n",
    "\n",
    "K = [10, 0, 0; 0, 10, 0; 0, 0, 1];  T = [1,1,1];  R = I"
   ]
  },
  {
   "cell_type": "code",
   "execution_count": 7,
   "metadata": {
    "id": "ENKNt0t__tZf"
   },
   "outputs": [
    {
     "name": "stdout",
     "output_type": "stream",
     "text": [
      "[[ 0.   -0.01  0.1 ]\n",
      " [ 0.01  0.   -0.1 ]\n",
      " [-0.1   0.1   0.  ]]\n",
      "[ 0.06 -0.07  0.1 ]\n"
     ]
    }
   ],
   "source": [
    "K = np.array([[10,0,0],[0,10,0],[0,0,1]])\n",
    "invK = np.linalg.inv(K)\n",
    "T = np.array([1,1,1])\n",
    "R = np.identity(3)\n",
    "\n",
    "#TODO: Compute F and compute line parameters\n",
    "F = np.zeros((3,3))\n",
    "E = sk(T) @ R\n",
    "F = invK @ E @ invK\n",
    "\n",
    "lineresultasarray = np.zeros((3,))\n",
    "pt = np.array([3, 4, 1])\n",
    "lineresultasarray = F @ pt\n",
    "\n",
    "\n",
    "print(F)\n",
    "print(lineresultasarray)\n",
    "\n",
    "# store the answer. Do not modify this\n",
    "answers['short4'] = {}\n",
    "answers['short4']['F'] = F # 2 points\n",
    "answers['short4']['epipolar'] = lineresultasarray # 2 points"
   ]
  },
  {
   "cell_type": "markdown",
   "metadata": {
    "id": "Gaewt2Bn_kn7"
   },
   "source": [
    "**5.Project the point [0,0,0] given the following intrinsic, extrinsic camera parameters:**\n",
    "\n",
    "Scale parameters = 10; \n",
    "\n",
    "Optical center = (100, 100)\n",
    "\n",
    "Rotation by 90 degrees around the z axis\n",
    "\n",
    "Translation value of [0,0, 500]"
   ]
  },
  {
   "cell_type": "code",
   "execution_count": 8,
   "metadata": {
    "id": "EJV7hwmhAicQ"
   },
   "outputs": [
    {
     "name": "stdout",
     "output_type": "stream",
     "text": [
      "[[ 6.123234e-16 -1.000000e+01  1.000000e+02  5.000000e+04]\n",
      " [ 1.000000e+01  6.123234e-16  1.000000e+02  5.000000e+04]\n",
      " [ 0.000000e+00  0.000000e+00  1.000000e+00  5.000000e+02]]\n",
      "[100. 100.]\n"
     ]
    }
   ],
   "source": [
    "# helpful functions\n",
    "rotatex = lambda phi: np.array([[1, 0, 0],[0, np.cos(phi), -np.sin(phi)], [0, np.sin(phi), np.cos(phi)]])\n",
    "rotatey = lambda theta: np.array([[np.cos(theta), 0, np.sin(theta)],[0, 1, 0],[-np.sin(theta), 0, np.cos(theta)]])\n",
    "rotatez = lambda xi: np.array([[np.cos(xi), -np.sin(xi), 0],[np.sin(xi), np.cos(xi), 0], [0, 0, 1]])\n",
    "\n",
    "# given\n",
    "p = np.array([0,0,0,1])\n",
    "K = np.array([[10, 0, 100],[0, 10, 100],[0,0,1]])\n",
    "t = np.array([[0,0, 500]])\n",
    "R = rotatez(np.pi/2)\n",
    "\n",
    "\n",
    "# Compute camera model matrix M and project point to coordinates u and v\n",
    "M = np.zeros((3,4))\n",
    "pp = np.zeros((2,))\n",
    "\n",
    "Mint = np.hstack((K, np.zeros((3,1))))\n",
    "Mext = np.eye(4)\n",
    "Mext[0:3,0:3] = R\n",
    "Mext[0:3,-1] = t\n",
    "\n",
    "M = Mint @ Mext\n",
    "pp_unscaled = M @ p\n",
    "pp = pp_unscaled[0:2]/pp_unscaled[-1]\n",
    "\n",
    "print(M)\n",
    "print(pp)\n",
    "\n",
    "# store the answer. Do not modify this\n",
    "answers['short5'] = {}\n",
    "answers['short5']['M'] = M # 2 points\n",
    "answers['short5']['pp'] = pp # 2 points"
   ]
  },
  {
   "cell_type": "markdown",
   "metadata": {
    "id": "4qBr91OABops"
   },
   "source": [
    "### **Long Questions (5 pts each, 15 pts total)**"
   ]
  },
  {
   "cell_type": "markdown",
   "metadata": {
    "id": "WMOold7yB2SM"
   },
   "source": [
    "**1. Given the image L1,  compute the histogram of directions of nonzero gradients (not weighted by gradient magnitude). Use a derivative of Gaussian filter with sigma of 1.0. Your histogram should quantize to 4 quadrants -- 0 to 90, 91-180, 181-270, and 271-360. Print the histogram rounded to the nearest 10.**"
   ]
  },
  {
   "cell_type": "code",
   "execution_count": 9,
   "metadata": {
    "id": "kfmLV7DKB8hb"
   },
   "outputs": [
    {
     "data": {
      "text/plain": [
       "<matplotlib.image.AxesImage at 0x22a8e4acd48>"
      ]
     },
     "execution_count": 9,
     "metadata": {},
     "output_type": "execute_result"
    },
    {
     "data": {
      "image/png": "[encoded data removed]",
      "text/plain": [
       "<Figure size 432x288 with 1 Axes>"
      ]
     },
     "metadata": {
      "needs_background": "light"
     },
     "output_type": "display_data"
    }
   ],
   "source": [
    "L1 = cv2.cvtColor(cv2.imread('L1-A.png'), cv2.COLOR_BGR2GRAY)\n",
    "plt.imshow(L1, cmap='gray')"
   ]
  },
  {
   "cell_type": "code",
   "execution_count": 10,
   "metadata": {
    "id": "0bfWaQHv0S_n"
   },
   "outputs": [
    {
     "name": "stdout",
     "output_type": "stream",
     "text": [
      "[5400.    0.    0.    0.]\n"
     ]
    }
   ],
   "source": [
    "from scipy.ndimage import gaussian_filter\n",
    "\n",
    "#todo: compute dir\n",
    "sigma = 1\n",
    "grad_y = gaussian_filter(L1, (sigma, 0), order=1)\n",
    "grad_x = gaussian_filter(L1, (0, sigma), order=1)\n",
    "mag = np.sqrt(grad_x**2 + grad_y**2)\n",
    "dir = np.arctan2(grad_y, grad_x)\n",
    "\n",
    "histogram = np.zeros(4)\n",
    "histogram[0] = np.count_nonzero((dir <= np.pi/2) & (dir >= 0) & (mag > 0))\n",
    "histogram[1] = np.count_nonzero((dir <= np.pi) & (dir > np.pi/2) & (mag > 0))\n",
    "histogram[2] = np.count_nonzero((dir <= -np.pi/2) & (dir >= -np.pi) & (mag > 0))\n",
    "histogram[3] = np.count_nonzero((dir < 0) & (dir > -np.pi/2) & (mag > 0))\n",
    "print(np.round(histogram,-2))\n",
    "\n",
    "# store the answer. Do not modify this\n",
    "answers['long1'] = np.round(histogram,-2) # 5 points"
   ]
  },
  {
   "cell_type": "markdown",
   "metadata": {
    "id": "3WXgUf-7Cawf"
   },
   "source": [
    "**2. Compute SAD, SSD, and NCC of two image patches L2a and L2b**"
   ]
  },
  {
   "cell_type": "code",
   "execution_count": 11,
   "metadata": {
    "id": "1cLE8i4oCstm"
   },
   "outputs": [
    {
     "name": "stdout",
     "output_type": "stream",
     "text": [
      "SAD:  71809436\n",
      "SSD:  3136.16\n",
      "NCC:  0.01\n"
     ]
    },
    {
     "data": {
      "image/png": "[encoded data removed]",
      "text/plain": [
       "<Figure size 432x288 with 1 Axes>"
      ]
     },
     "metadata": {
      "needs_background": "light"
     },
     "output_type": "display_data"
    }
   ],
   "source": [
    "L2a = cv2.cvtColor(cv2.imread('L2a-A.png'), cv2.COLOR_BGR2GRAY)\n",
    "L2b = cv2.cvtColor(cv2.imread('L2b-A.png'), cv2.COLOR_BGR2GRAY)\n",
    "plt.imshow(np.concatenate((L2a, L2b), axis=1), cmap='gray')\n",
    "\n",
    "#TODO: compute SAD, SSD, and NCC\n",
    "SAD = np.abs(L2a - L2b).sum()\n",
    "SSD = np.sqrt(np.sum((L2a - L2b)**2))\n",
    "NCC = np.sum(L2a * L2b)/np.linalg.norm(L2a)/np.linalg.norm(L2b)\n",
    "\n",
    "\n",
    "print(\"SAD: \", round(SAD, 2))\n",
    "print(\"SSD: \", round(SSD, 2))\n",
    "print(\"NCC: \", round(NCC, 2))\n",
    "\n",
    "# store the answer. Do not modify this\n",
    "answers['long2'] = {}\n",
    "answers['long2']['SAD'] = round(SAD, 2) # 2 points\n",
    "answers['long2']['SSD'] = round(SSD, 2) # 1.5 points\n",
    "answers['long2']['NCC'] = round(NCC, 2) # 1.5 points"
   ]
  },
  {
   "cell_type": "markdown",
   "metadata": {
    "id": "L3NM8sVtDAWa"
   },
   "source": [
    "**3. Given the two images L2a and L2b above, compute the direction of motion expressed as an angle in degrees rounded to the nearest 10 degrees (i.e. 0, 10, 20, 30 etc) . Use round with parameter -1, and filter both images with gaussian sigma=2 before computing gradients.**\n",
    "\n",
    "**Hint: To solve for this, recall the optical flow equation $Ad=b$, where $A$ is the $n\\times 2$ matrix of spatial gradients, $d$ is the $[u, v]$ motion between the two images, and $b$ is the difference between the two images after Gaussian filtering.**"
   ]
  },
  {
   "cell_type": "code",
   "execution_count": 12,
   "metadata": {
    "id": "6UkuZSWNEXvX"
   },
   "outputs": [
    {
     "name": "stdout",
     "output_type": "stream",
     "text": [
      "[[253]\n",
      " [253]\n",
      " [253]\n",
      " ...\n",
      " [253]\n",
      " [  0]\n",
      " [  3]]\n",
      "[[  0.  255. ]\n",
      " [  0.  255. ]\n",
      " [  0.5 255. ]\n",
      " ...\n",
      " [127.  255. ]\n",
      " [  0.    0. ]\n",
      " [  0.5   0. ]]\n",
      "[[0.14345672]\n",
      " [1.61590486]]\n",
      "80.0\n"
     ]
    }
   ],
   "source": [
    "sigma = 2\n",
    "L2ag = gaussian_filter(L2a, sigma, order=0)\n",
    "L2bg = gaussian_filter(L2b, sigma, order=0)\n",
    "\n",
    "i_y, i_x = np.gradient(L2ag)\n",
    "i_t = L2ag - L2bg #TODO: compute image difference\n",
    "\n",
    "gx = np.resize(i_x, (-1, 1))\n",
    "gy = np.resize(i_y, (-1, 1))\n",
    "\n",
    "b = np.resize(i_t, (-1, 1))\n",
    "A = np.concatenate((gx, gy), axis=1)\n",
    "d = np.zeros((2,1)) #TODO: compute d\n",
    "d = np.linalg.lstsq(A, b, rcond=None)[0]\n",
    "print(b)\n",
    "print(A)\n",
    "print(d)\n",
    "print(np.round(np.arctan2(d[1], d[0]) * 180/np.pi, -1)[0])\n",
    "\n",
    "# store the answer. Do not modify this\n",
    "answers['long3'] = {}\n",
    "answers['long3']['b'] = np.linalg.norm(b) # 1 point\n",
    "answers['long3']['A'] = np.linalg.norm(A) # 1 point\n",
    "answers['long3']['d'] = d # 2 points\n",
    "answers['long3']['angle'] = np.round(np.arctan2(d[1], d[0]) * 180/np.pi, -1)[0] # 1 point"
   ]
  },
  {
   "cell_type": "code",
   "execution_count": 13,
   "metadata": {
    "id": "OHGNFBgTKSJT"
   },
   "outputs": [],
   "source": [
    "# save your answers to answers.pkl. Please submit answers.pkl along with your notebook\n",
    "pickle.dump(answers,open('answers.pkl', 'wb'))"
   ]
  }
 ],
 "metadata": {
  "colab": {
   "collapsed_sections": [],
   "name": "CV-2020-Midterm-Exam.ipynb",
   "provenance": [],
   "toc_visible": true
  },
  "kernelspec": {
   "display_name": "Python 3",
   "language": "python",
   "name": "python3"
  },
  "language_info": {
   "codemirror_mode": {
    "name": "ipython",
    "version": 3
   },
   "file_extension": ".py",
   "mimetype": "text/x-python",
   "name": "python",
   "nbconvert_exporter": "python",
   "pygments_lexer": "ipython3",
   "version": "3.7.4"
  }
 },
 "nbformat": 4,
 "nbformat_minor": 4
}
