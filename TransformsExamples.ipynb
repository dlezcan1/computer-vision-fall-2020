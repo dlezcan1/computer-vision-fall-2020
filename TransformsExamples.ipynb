{
 "cells": [
  {
   "cell_type": "code",
   "execution_count": 1,
   "metadata": {
    "colab": {},
    "colab_type": "code",
    "id": "XZBLjVlNlgox"
   },
   "outputs": [],
   "source": [
    "%matplotlib inline\n",
    "import matplotlib.pyplot as plt\n",
    "import numpy as np\n",
    "import numpy.linalg as la\n",
    "import cv2\n",
    "from scipy import signal"
   ]
  },
  {
   "cell_type": "markdown",
   "metadata": {
    "colab": {},
    "colab_type": "code",
    "id": "rU-1T_NHp_Qk"
   },
   "source": [
    "### 3D Camera Geometry\n",
    "\n",
    "In class we covered material for single and multi-camera systems. This notebook will help ground some of these geometric concepts.\n",
    "\n",
    "First, we'll define some of the components we'll need for camera geometry"
   ]
  },
  {
   "cell_type": "code",
   "execution_count": 2,
   "metadata": {
    "colab": {},
    "colab_type": "code",
    "id": "XM5v1tZzq_7l"
   },
   "outputs": [],
   "source": [
    "def rotate(t) :\n",
    "    return [[np.cos(t),-np.sin(t),0],[np.sin(t),np.cos(t),0],[0,0,1]]\n",
    "def rotate2D(t) :\n",
    "    return [[np.cos(t),-np.sin(t)],[np.sin(t),np.cos(t)]]\n",
    "def trans(x,y,z) :\n",
    "    return np.array([[x,y,z]]).T\n",
    "def htrans(R,t) :\n",
    "#    print([R,t].shape)\n",
    "    return np.concatenate((np.concatenate((R,t),axis=1),np.array([[0,0,0,1]])))\n",
    "        "
   ]
  },
  {
   "cell_type": "markdown",
   "metadata": {},
   "source": [
    "Now, we'll define some components for camera internal geometry"
   ]
  },
  {
   "cell_type": "code",
   "execution_count": 3,
   "metadata": {
    "colab": {},
    "colab_type": "code",
    "id": "difUAAAk6Avj"
   },
   "outputs": [],
   "source": [
    "def Kmatrix(sx,sy,ox,oy) :\n",
    "    return np.array([[sx,0,ox],[0,sy,oy],[0,0,1]])\n",
    "def Mmatrix(K) :\n",
    "    return np.concatenate((K, np.array([[0,0,0]]).T),axis=1)"
   ]
  },
  {
   "cell_type": "markdown",
   "metadata": {},
   "source": [
    "Now, define camera projection in terms of htrans and Mmatrix"
   ]
  },
  {
   "cell_type": "code",
   "execution_count": 4,
   "metadata": {},
   "outputs": [],
   "source": [
    "def Pmatrix(H,M) :\n",
    "    return M*H"
   ]
  },
  {
   "cell_type": "code",
   "execution_count": 5,
   "metadata": {
    "colab": {},
    "colab_type": "code",
    "id": "G7tOqw21z_YN"
   },
   "outputs": [],
   "source": [
    "\n",
    "\n",
    "pts = np.concatenate((np.random.random([2,10]),np.ones([1,10])),axis=0)"
   ]
  },
  {
   "cell_type": "code",
   "execution_count": 6,
   "metadata": {},
   "outputs": [
    {
     "data": {
      "text/plain": [
       "array([[0.25254088, 0.99546515, 1.        ],\n",
       "       [0.99400395, 0.74785414, 1.        ],\n",
       "       [0.73568644, 0.3344954 , 1.        ],\n",
       "       [0.86773162, 0.6219642 , 1.        ],\n",
       "       [0.76630658, 0.65563089, 1.        ],\n",
       "       [0.2009062 , 0.13386832, 1.        ],\n",
       "       [0.28492977, 0.18448435, 1.        ],\n",
       "       [0.52070306, 0.57522347, 1.        ],\n",
       "       [0.0268827 , 0.09195257, 1.        ],\n",
       "       [0.84485643, 0.71784781, 1.        ]])"
      ]
     },
     "execution_count": 6,
     "metadata": {},
     "output_type": "execute_result"
    }
   ],
   "source": [
    "pts.T"
   ]
  },
  {
   "cell_type": "markdown",
   "metadata": {},
   "source": [
    "Just setting up a few helper functions"
   ]
  },
  {
   "cell_type": "code",
   "execution_count": 7,
   "metadata": {},
   "outputs": [],
   "source": [
    "def scale(sx, sy) :\n",
    "    return [[sx,0,0],[0,sy,0],[0,0,1]]"
   ]
  },
  {
   "cell_type": "code",
   "execution_count": 8,
   "metadata": {},
   "outputs": [],
   "source": [
    "def shear(sx, sy) :\n",
    "    return [[1,sx,0],[sy,1,0],[0,0,1]]\n"
   ]
  },
  {
   "cell_type": "code",
   "execution_count": 9,
   "metadata": {},
   "outputs": [],
   "source": [
    "def translate(tx, ty) :\n",
    "    return [[1,0,tx],[0,1,ty],[0,0,1]]"
   ]
  },
  {
   "cell_type": "code",
   "execution_count": 10,
   "metadata": {},
   "outputs": [
    {
     "data": {
      "text/plain": [
       "array([[ 0.70710678, -0.70710678,  3.        ],\n",
       "       [ 0.70710678,  0.70710678,  4.        ],\n",
       "       [ 0.        ,  0.        ,  1.        ]])"
      ]
     },
     "execution_count": 10,
     "metadata": {},
     "output_type": "execute_result"
    }
   ],
   "source": [
    "H = np.matmul(translate(3,4),rotate(np.pi/4))\n",
    "H"
   ]
  },
  {
   "cell_type": "code",
   "execution_count": 11,
   "metadata": {},
   "outputs": [],
   "source": [
    "opts = np.matmul(H,pts)"
   ]
  },
  {
   "cell_type": "markdown",
   "metadata": {},
   "source": [
    "Now let's set up H recovery"
   ]
  },
  {
   "cell_type": "code",
   "execution_count": 12,
   "metadata": {},
   "outputs": [],
   "source": [
    "def arow(x,xp):\n",
    "    return [[x[0],x[1],1,0,0,0,-xp[0]*x[0],-x[1]*xp[0],-xp[0]],\n",
    "            [0,0,0,x[0],x[1],1,-xp[1]*x[0],-x[1]*xp[1],-xp[1]]]"
   ]
  },
  {
   "cell_type": "code",
   "execution_count": 13,
   "metadata": {},
   "outputs": [
    {
     "data": {
      "text/plain": [
       "array([[ 0.25254088,  0.99546515,  1.        ,  0.        ,  0.        ,\n",
       "         0.        , -0.62495615, -2.46345093, -2.47467321],\n",
       "       [ 0.        ,  0.        ,  0.        ,  0.25254088,  0.99546515,\n",
       "         1.        , -1.23302415, -4.86033222, -4.88247352],\n",
       "       [ 0.99400395,  0.74785414,  1.        ,  0.        ,  0.        ,\n",
       "         0.        , -3.15502241, -2.37372957, -3.1740542 ],\n",
       "       [ 0.        ,  0.        ,  0.        ,  0.99400395,  0.74785414,\n",
       "         1.        , -5.20031025, -3.9125333 , -5.23167967],\n",
       "       [ 0.73568644,  0.3344954 ,  1.        ,  0.        ,  0.        ,\n",
       "         0.        , -2.41576247, -1.09837749, -3.28368491],\n",
       "       [ 0.        ,  0.        ,  0.        ,  0.73568644,  0.3344954 ,\n",
       "         1.        , -3.49946386, -1.59110525, -4.75673284],\n",
       "       [ 0.86773162,  0.6219642 ,  1.        ,  0.        ,  0.        ,\n",
       "         0.        , -2.75399256, -1.97397991, -3.17378381],\n",
       "       [ 0.        ,  0.        ,  0.        ,  0.86773162,  0.6219642 ,\n",
       "         1.        , -4.38497241, -3.14301774, -5.05337402]])"
      ]
     },
     "execution_count": 13,
     "metadata": {},
     "output_type": "execute_result"
    }
   ],
   "source": [
    "A = np.concatenate((arow(pts.T[0],opts.T[0]),\n",
    "                    arow(pts.T[1],opts.T[1]),\n",
    "                    arow(pts.T[2],opts.T[2]),\n",
    "                    arow(pts.T[3],opts.T[3]),\n",
    "                   ))\n",
    "A"
   ]
  },
  {
   "cell_type": "code",
   "execution_count": 14,
   "metadata": {},
   "outputs": [],
   "source": [
    "[u,d,v] = la.svd(A,True,True)"
   ]
  },
  {
   "cell_type": "code",
   "execution_count": 15,
   "metadata": {},
   "outputs": [
    {
     "data": {
      "text/plain": [
       "array([1.67703315e+01, 3.64882745e+00, 2.80819983e+00, 1.49334913e+00,\n",
       "       6.54405759e-01, 2.52797374e-01, 6.32424234e-03, 4.04873796e-03])"
      ]
     },
     "execution_count": 15,
     "metadata": {},
     "output_type": "execute_result"
    }
   ],
   "source": [
    "d"
   ]
  },
  {
   "cell_type": "code",
   "execution_count": 16,
   "metadata": {},
   "outputs": [
    {
     "data": {
      "text/plain": [
       "array([ 1.33630621e-01, -1.33630621e-01,  5.66946710e-01,  1.33630621e-01,\n",
       "        1.33630621e-01,  7.55928946e-01, -2.09702399e-15,  2.57711033e-15,\n",
       "        1.88982237e-01])"
      ]
     },
     "execution_count": 16,
     "metadata": {},
     "output_type": "execute_result"
    }
   ],
   "source": [
    "v[8]"
   ]
  },
  {
   "cell_type": "code",
   "execution_count": 17,
   "metadata": {},
   "outputs": [
    {
     "data": {
      "text/plain": [
       "array([ 7.07106781e-01, -7.07106781e-01,  3.00000000e+00,  7.07106781e-01,\n",
       "        7.07106781e-01,  4.00000000e+00, -1.10964079e-14,  1.36367861e-14,\n",
       "        1.00000000e+00])"
      ]
     },
     "execution_count": 17,
     "metadata": {},
     "output_type": "execute_result"
    }
   ],
   "source": [
    "v[8]/v[8,8]"
   ]
  },
  {
   "cell_type": "code",
   "execution_count": 18,
   "metadata": {},
   "outputs": [
    {
     "data": {
      "text/plain": [
       "array([[ 7.07106781e-01, -7.07106781e-01,  3.00000000e+00],\n",
       "       [ 7.07106781e-01,  7.07106781e-01,  4.00000000e+00],\n",
       "       [-1.10964079e-14,  1.36367861e-14,  1.00000000e+00]])"
      ]
     },
     "execution_count": 18,
     "metadata": {},
     "output_type": "execute_result"
    }
   ],
   "source": [
    "np.reshape(v[8]/v[8,8],[3,3])"
   ]
  },
  {
   "cell_type": "code",
   "execution_count": 19,
   "metadata": {},
   "outputs": [
    {
     "data": {
      "text/plain": [
       "array([[ 0.70710678, -0.70710678,  3.        ],\n",
       "       [ 0.70710678,  0.70710678,  4.        ],\n",
       "       [ 0.        ,  0.        ,  1.        ]])"
      ]
     },
     "execution_count": 19,
     "metadata": {},
     "output_type": "execute_result"
    }
   ],
   "source": [
    "H"
   ]
  },
  {
   "cell_type": "code",
   "execution_count": 20,
   "metadata": {},
   "outputs": [],
   "source": [
    "R =rotate2D(0.6)\n",
    "pts = np.array([[0,1,2,3,4,5,6,7,8], [1,1,1,1,1,1,1,1,1]])\n",
    "Kold = np.array([[10,4],[0,1]])\n",
    "Kinv = la.inv(Kold)\n",
    "Knew = np.array([[10,0],[0,1]])"
   ]
  },
  {
   "cell_type": "code",
   "execution_count": 21,
   "metadata": {},
   "outputs": [
    {
     "data": {
      "text/plain": [
       "array([[0.90342796, 1.72876357, 2.55409919, 3.3794348 , 4.20477042,\n",
       "        5.03010603, 5.85544165, 6.68077726, 7.50611288],\n",
       "       [0.82533561, 0.82533561, 0.82533561, 0.82533561, 0.82533561,\n",
       "        0.82533561, 0.82533561, 0.82533561, 0.82533561]])"
      ]
     },
     "execution_count": 21,
     "metadata": {},
     "output_type": "execute_result"
    }
   ],
   "source": [
    "H1 = Kold*R*Kinv\n",
    "forward_res = H1@pts\n",
    "inverse_res = la.inv(H1)@pts\n",
    "H2 = Knew*R*Kinv\n",
    "forward_res_new = H2@pts\n",
    "inverse_res_new = la.inv(H2)@pts\n",
    "forward_res"
   ]
  },
  {
   "cell_type": "code",
   "execution_count": 22,
   "metadata": {},
   "outputs": [
    {
     "data": {
      "text/plain": [
       "array([1.09461889, 2.09461889, 3.09461889, 4.09461889, 5.09461889,\n",
       "       6.09461889, 7.09461889, 8.09461889, 9.09461889])"
      ]
     },
     "execution_count": 22,
     "metadata": {},
     "output_type": "execute_result"
    }
   ],
   "source": [
    "forward_res[0]/forward_res[1]"
   ]
  },
  {
   "cell_type": "code",
   "execution_count": 23,
   "metadata": {},
   "outputs": [
    {
     "data": {
      "text/plain": [
       "array([0., 1., 2., 3., 4., 5., 6., 7., 8.])"
      ]
     },
     "execution_count": 23,
     "metadata": {},
     "output_type": "execute_result"
    }
   ],
   "source": [
    "inverse_res_new[0]/inverse_res_new[1]"
   ]
  },
  {
   "cell_type": "markdown",
   "metadata": {},
   "source": [
    "Playing around a bit with stereo images note that the code uses a simulated image where I know exactly what the answer is"
   ]
  },
  {
   "cell_type": "code",
   "execution_count": 24,
   "metadata": {},
   "outputs": [
    {
     "data": {
      "text/plain": [
       "<matplotlib.image.AxesImage at 0x1dd31588548>"
      ]
     },
     "execution_count": 24,
     "metadata": {},
     "output_type": "execute_result"
    },
    {
     "data": {
      "image/png": "[encoded data removed]",
      "text/plain": [
       "<Figure size 432x288 with 1 Axes>"
      ]
     },
     "metadata": {
      "needs_background": "light"
     },
     "output_type": "display_data"
    }
   ],
   "source": [
    "rm1 = np.random.random_sample((99,100))\n",
    "rm2 = np.copy(rm1)\n",
    "rm2[40:60,40:60] = rm2[35:55,35:55]\n",
    "plt.imshow(rm2-rm1)"
   ]
  },
  {
   "cell_type": "code",
   "execution_count": 25,
   "metadata": {},
   "outputs": [],
   "source": [
    "def finddisp(im1,im2,dmin,dmax) :\n",
    "    width = 100-dmax-1\n",
    "    area = im1[:,0:width]\n",
    "    best = -1*np.ones([99-10,width-10])\n",
    "    val = np.zeros([99-10,width-10])\n",
    "    im1sq =  np.sqrt(signal.convolve2d(np.ones([11,11])/121,area,mode='valid'))\n",
    "    im2sq = np.sqrt(signal.convolve2d(np.ones([11,11])/121,im2,mode='valid'))\n",
    "    \n",
    "    for i in range(dmin,dmax) :\n",
    "        print(i)\n",
    "        testa = im2[:,i:i+width]\n",
    "        im2sq = np.sqrt(signal.convolve2d(np.ones([11,11])/121,testa,mode='valid'))\n",
    "        prod = area*testa\n",
    "        corr = signal.convolve2d(np.ones([11,11])/121,prod,mode='valid')\n",
    "#        corr = corr/(im1sq*im2sq)\n",
    "        val[corr>best]=i\n",
    "        test = np.stack((corr,best))\n",
    "        best = np.amax(test,0)\n",
    "    return val\n",
    "        \n",
    "        \n",
    "        \n",
    "        "
   ]
  },
  {
   "cell_type": "code",
   "execution_count": 26,
   "metadata": {},
   "outputs": [
    {
     "name": "stdout",
     "output_type": "stream",
     "text": [
      "0\n",
      "1\n",
      "2\n",
      "3\n",
      "4\n",
      "5\n",
      "6\n",
      "7\n",
      "8\n",
      "9\n",
      "[[0. 0. 0. ... 0. 0. 0.]\n",
      " [0. 0. 0. ... 0. 0. 0.]\n",
      " [0. 0. 0. ... 0. 0. 0.]\n",
      " ...\n",
      " [0. 0. 0. ... 0. 0. 0.]\n",
      " [0. 0. 0. ... 0. 0. 0.]\n",
      " [0. 0. 0. ... 0. 0. 0.]]\n"
     ]
    },
    {
     "data": {
      "text/plain": [
       "<matplotlib.image.AxesImage at 0x1dd31631e08>"
      ]
     },
     "execution_count": 26,
     "metadata": {},
     "output_type": "execute_result"
    },
    {
     "data": {
      "image/png": "[encoded data removed]",
      "text/plain": [
       "<Figure size 432x288 with 1 Axes>"
      ]
     },
     "metadata": {
      "needs_background": "light"
     },
     "output_type": "display_data"
    }
   ],
   "source": [
    "res = finddisp(rm1,rm2,0,10)\n",
    "print(res)\n",
    "plt.imshow(res*10)"
   ]
  },
  {
   "cell_type": "raw",
   "metadata": {},
   "source": [
    "\n"
   ]
  },
  {
   "cell_type": "code",
   "execution_count": 27,
   "metadata": {},
   "outputs": [
    {
     "ename": "NameError",
     "evalue": "name 'gimg1' is not defined",
     "output_type": "error",
     "traceback": [
      "\u001b[1;31m---------------------------------------------------------------------------\u001b[0m",
      "\u001b[1;31mNameError\u001b[0m                                 Traceback (most recent call last)",
      "\u001b[1;32m<ipython-input-27-ace098a93eeb>\u001b[0m in \u001b[0;36m<module>\u001b[1;34m\u001b[0m\n\u001b[1;32m----> 1\u001b[1;33m \u001b[0msignal\u001b[0m\u001b[1;33m.\u001b[0m\u001b[0mconvolve2d\u001b[0m\u001b[1;33m(\u001b[0m\u001b[0mnp\u001b[0m\u001b[1;33m.\u001b[0m\u001b[0mones\u001b[0m\u001b[1;33m(\u001b[0m\u001b[1;33m[\u001b[0m\u001b[1;36m11\u001b[0m\u001b[1;33m,\u001b[0m\u001b[1;36m11\u001b[0m\u001b[1;33m]\u001b[0m\u001b[1;33m)\u001b[0m\u001b[1;33m/\u001b[0m\u001b[1;36m121\u001b[0m\u001b[1;33m,\u001b[0m\u001b[0mgimg1\u001b[0m\u001b[1;33m,\u001b[0m\u001b[0mmode\u001b[0m\u001b[1;33m=\u001b[0m\u001b[1;34m'valid'\u001b[0m\u001b[1;33m)\u001b[0m\u001b[1;33m\u001b[0m\u001b[1;33m\u001b[0m\u001b[0m\n\u001b[0m",
      "\u001b[1;31mNameError\u001b[0m: name 'gimg1' is not defined"
     ]
    }
   ],
   "source": [
    "signal.convolve2d(np.ones([11,11])/121,gimg1,mode='valid')"
   ]
  },
  {
   "cell_type": "code",
   "execution_count": null,
   "metadata": {},
   "outputs": [],
   "source": [
    "x = np.ones([3,3])\n"
   ]
  },
  {
   "cell_type": "code",
   "execution_count": null,
   "metadata": {},
   "outputs": [],
   "source": [
    "z =np.stack((x,x),2)"
   ]
  },
  {
   "cell_type": "code",
   "execution_count": null,
   "metadata": {},
   "outputs": [],
   "source": [
    "x = np.array([1,2, 3])\n"
   ]
  },
  {
   "cell_type": "code",
   "execution_count": null,
   "metadata": {},
   "outputs": [],
   "source": [
    "z[1]"
   ]
  },
  {
   "cell_type": "code",
   "execution_count": null,
   "metadata": {},
   "outputs": [],
   "source": [
    "x"
   ]
  },
  {
   "cell_type": "code",
   "execution_count": null,
   "metadata": {},
   "outputs": [],
   "source": []
  }
 ],
 "metadata": {
  "colab": {
   "name": "(Week 2) Convolutions.ipynb",
   "provenance": []
  },
  "kernelspec": {
   "display_name": "Python 3",
   "language": "python",
   "name": "python3"
  },
  "language_info": {
   "codemirror_mode": {
    "name": "ipython",
    "version": 3
   },
   "file_extension": ".py",
   "mimetype": "text/x-python",
   "name": "python",
   "nbconvert_exporter": "python",
   "pygments_lexer": "ipython3",
   "version": "3.7.4"
  }
 },
 "nbformat": 4,
 "nbformat_minor": 4
}
